{
 "cells": [
  {
   "cell_type": "code",
   "execution_count": null,
   "id": "f5f4b6b7-873c-47c6-8686-46bd7e2cbd7c",
   "metadata": {},
   "outputs": [],
   "source": [
    "import os\n",
    "import pandas as pd\n",
    "import xml.etree.ElementTree as ET\n",
    "\n",
    "input_dir = 'data/apple_health_export/'\n",
    "output_dir = 'data/'\n",
    "\n",
    "output_prefix = 'AppleHealth'\n",
    "\n",
    "input_file = 'export.xml'\n",
    "input_file = os.path.join(input_dir, input_file)\n",
    "\n",
    "health = ET.parse(file)\n",
    "\n",
    "health_root = health.getroot()\n",
    "\n",
    "record_type = 'HKQuantityTypeIdentifierBodyMass'\n",
    "\n",
    "weight_records = [child.attrib for child in health_root if child.get('type') == record_type]\n",
    "\n",
    "weight_keys = list(weight_records[0].keys())\n",
    "\n",
    "weight_dict = {key:None for key in weight_keys}\n",
    "for key in weight_dict.keys():\n",
    "    weight_dict[key] = [record[key] for record in weight_records]\n",
    "\n",
    "df_weight = pd.DataFrame(weight_dict)\n",
    "\n",
    "outfile = record_type.replace('HKQuantityTypeIdentifier', '')\n",
    "outfile = '_'.join([output_prefix, outfile])\n",
    "outfile = outfile+'.csv'\n",
    "outfile = os.path.join(output_dir, outfile)\n",
    "# df_weight.to_csv(outfile, index = False)"
   ]
  }
 ],
 "metadata": {
  "kernelspec": {
   "display_name": "Python 3 (ipykernel)",
   "language": "python",
   "name": "python3"
  },
  "language_info": {
   "codemirror_mode": {
    "name": "ipython",
    "version": 3
   },
   "file_extension": ".py",
   "mimetype": "text/x-python",
   "name": "python",
   "nbconvert_exporter": "python",
   "pygments_lexer": "ipython3",
   "version": "3.12.5"
  }
 },
 "nbformat": 4,
 "nbformat_minor": 5
}
