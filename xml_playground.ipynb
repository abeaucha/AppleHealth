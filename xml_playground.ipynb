{
 "cells": [
  {
   "cell_type": "markdown",
   "id": "046f7f85-1f74-4d17-be5c-d0ff16bf11f4",
   "metadata": {},
   "source": [
    "# Packages"
   ]
  },
  {
   "cell_type": "code",
   "execution_count": 1,
   "id": "d548b20c-b8f5-43b8-bf63-79f66455776b",
   "metadata": {},
   "outputs": [],
   "source": [
    "import xml.etree.ElementTree as ET\n",
    "import os"
   ]
  },
  {
   "cell_type": "markdown",
   "id": "f221c355-11b7-4c71-aca4-13fd579f43c4",
   "metadata": {},
   "source": [
    "# Practice\n",
    "\n",
    "We will play around with parsing XML files by using an example file, 'country_data.xml'"
   ]
  },
  {
   "cell_type": "code",
   "execution_count": 4,
   "id": "04982185-a286-49a3-b85f-159ae389c2c9",
   "metadata": {},
   "outputs": [],
   "source": [
    "# XML file to parse\n",
    "file = 'data/country_data.xml'\n",
    "\n",
    "# Parse XML file\n",
    "tree = ET.parse(file)"
   ]
  },
  {
   "cell_type": "markdown",
   "id": "00c6e85d-8673-4328-956f-4f4163a4290b",
   "metadata": {},
   "source": [
    "XML files are organized hierarchically. We can start extracting data by getting the root of the tree."
   ]
  },
  {
   "cell_type": "code",
   "execution_count": 6,
   "id": "5cd277e8-000c-492e-aa50-60df31466712",
   "metadata": {},
   "outputs": [
    {
     "name": "stdout",
     "output_type": "stream",
     "text": [
      "<Element 'data' at 0x110b531a0>\n"
     ]
    }
   ],
   "source": [
    "# Get the root element\n",
    "root = tree.getroot()\n",
    "print(root)"
   ]
  },
  {
   "cell_type": "markdown",
   "id": "0779698a-8aab-4d69-aa32-706e04156464",
   "metadata": {},
   "source": [
    "XML is organized in elements, similar to HTML. The root element has a tag: \"data\".\n",
    "\n",
    "We can investigate the number of child nodes attached to this root node using `len()`"
   ]
  },
  {
   "cell_type": "code",
   "execution_count": 12,
   "id": "9edfe034-c10c-43e7-84e8-32f421a78ab6",
   "metadata": {},
   "outputs": [
    {
     "data": {
      "text/plain": [
       "3"
      ]
     },
     "execution_count": 12,
     "metadata": {},
     "output_type": "execute_result"
    }
   ],
   "source": [
    "# Get the number of child nodes attached to root\n",
    "len(root)"
   ]
  },
  {
   "cell_type": "markdown",
   "id": "397da68e-88e8-4e3d-a673-1be09d70df6a",
   "metadata": {},
   "source": [
    "There are 3 child nodes. These might in turn have child nodes (grand-child nodes).\n",
    "\n",
    "We can iterate over these child nodes. This only iterates over the first level."
   ]
  },
  {
   "cell_type": "code",
   "execution_count": 13,
   "id": "4558fea8-d366-4dc8-8a53-6b0d48b5ba49",
   "metadata": {},
   "outputs": [
    {
     "name": "stdout",
     "output_type": "stream",
     "text": [
      "<Element 'country' at 0x110b53650>\n",
      "<Element 'country' at 0x110ef9d50>\n",
      "<Element 'country' at 0x110ef9ee0>\n"
     ]
    }
   ],
   "source": [
    "# Iterate over the child nodes\n",
    "for child in root:\n",
    "    print(child)"
   ]
  },
  {
   "cell_type": "markdown",
   "id": "4d1c4764-a707-43df-97a3-25d8f6e1fcd0",
   "metadata": {},
   "source": [
    "The 3 child nodes attached to root are tagged \"country\". These are the names of the elements, called a \"tag\". The tag can be extracted directly as an attribute of the node: "
   ]
  },
  {
   "cell_type": "code",
   "execution_count": 14,
   "id": "b8643ed7-ee94-4b25-8e06-eae748a54198",
   "metadata": {},
   "outputs": [
    {
     "name": "stdout",
     "output_type": "stream",
     "text": [
      "country\n",
      "country\n",
      "country\n"
     ]
    }
   ],
   "source": [
    "# Get the tags for each of the child nodes\n",
    "for child in root:\n",
    "    print(child.tag)"
   ]
  },
  {
   "cell_type": "markdown",
   "id": "1fee87e0-d657-481b-9d6c-223493c614cb",
   "metadata": {},
   "source": [
    "Elements can contain attributes. These are stored in the \"attrib\" attribute of the node, which returns a dictionary."
   ]
  },
  {
   "cell_type": "code",
   "execution_count": 15,
   "id": "5cf8f462-71ff-4514-8b48-42ccba2fe924",
   "metadata": {},
   "outputs": [
    {
     "name": "stdout",
     "output_type": "stream",
     "text": [
      "{'name': 'Liechtenstein'}\n",
      "{'name': 'Singapore'}\n",
      "{'name': 'Panama'}\n"
     ]
    }
   ],
   "source": [
    "# Get the attributes of each child node\n",
    "for child in root:\n",
    "    print(child.attrib)"
   ]
  },
  {
   "cell_type": "code",
   "execution_count": 16,
   "id": "81143bc0-d77a-4b81-8c40-56c350a1bdb9",
   "metadata": {},
   "outputs": [
    {
     "name": "stdout",
     "output_type": "stream",
     "text": [
      "<class 'dict'>\n",
      "<class 'dict'>\n",
      "<class 'dict'>\n"
     ]
    }
   ],
   "source": [
    "for child in root:\n",
    "    print(type(child.attrib))"
   ]
  },
  {
   "cell_type": "markdown",
   "id": "caca8ed7-69f1-40f6-9e13-1abae3b90482",
   "metadata": {},
   "source": [
    "Each of the child nodes contains a dictionary of attributes\n",
    "\n",
    "Individual nodes can be accessed using list indexing. For example, the third child attached to root is:"
   ]
  },
  {
   "cell_type": "code",
   "execution_count": 34,
   "id": "672b79e7-9f5e-4054-bc1b-cf8768210eaa",
   "metadata": {},
   "outputs": [
    {
     "data": {
      "text/plain": [
       "<Element 'country' at 0x10ad74540>"
      ]
     },
     "execution_count": 34,
     "metadata": {},
     "output_type": "execute_result"
    }
   ],
   "source": [
    "child3 = root[2]\n",
    "child3"
   ]
  },
  {
   "cell_type": "markdown",
   "id": "e1f079f8-b364-4aa5-a575-6a4e3b2fbf4c",
   "metadata": {},
   "source": [
    "This element has a tag and attributes as described above, but also contains a set of children nodes itself. "
   ]
  },
  {
   "cell_type": "code",
   "execution_count": 35,
   "id": "e507cada-0df6-47bc-b1d8-64566efe4efa",
   "metadata": {},
   "outputs": [
    {
     "data": {
      "text/plain": [
       "5"
      ]
     },
     "execution_count": 35,
     "metadata": {},
     "output_type": "execute_result"
    }
   ],
   "source": [
    "len(child3)"
   ]
  },
  {
   "cell_type": "markdown",
   "id": "f8651197-b6bd-4b3e-b2fc-ecb7d3ca7b16",
   "metadata": {},
   "source": [
    "This particular child node contains 5 children nodes. "
   ]
  },
  {
   "cell_type": "code",
   "execution_count": 36,
   "id": "82499581-52d0-4f14-8073-f26bb48183a7",
   "metadata": {},
   "outputs": [
    {
     "name": "stdout",
     "output_type": "stream",
     "text": [
      "rank\n",
      "year\n",
      "gdppc\n",
      "neighbor\n",
      "neighbor\n"
     ]
    }
   ],
   "source": [
    "for grandchild in child:\n",
    "    print(grandchild.tag)"
   ]
  },
  {
   "cell_type": "markdown",
   "id": "2e3e2c74-44cf-439e-bac9-f32b36e818ed",
   "metadata": {},
   "source": [
    "These grandchildren nodes have different tags. "
   ]
  },
  {
   "cell_type": "code",
   "execution_count": 37,
   "id": "cb35454b-db5a-4c14-9230-7c691e02fcdb",
   "metadata": {},
   "outputs": [
    {
     "name": "stdout",
     "output_type": "stream",
     "text": [
      "{}\n",
      "{}\n",
      "{}\n",
      "{'name': 'Costa Rica', 'direction': 'W'}\n",
      "{'name': 'Colombia', 'direction': 'E'}\n"
     ]
    }
   ],
   "source": [
    "for grandchild in child:\n",
    "    print(grandchild.attrib)"
   ]
  },
  {
   "cell_type": "markdown",
   "id": "2aed1307-6bf5-4d70-994f-be9490c7811f",
   "metadata": {},
   "source": [
    "Some have attributes and others don't. \n",
    "\n",
    "Data can also be stored as text between the tags in the XML file. This text can be pulled using the .text attribute. "
   ]
  },
  {
   "cell_type": "code",
   "execution_count": 38,
   "id": "38530e14-6fb5-41e5-bca4-fa261d6c6dd3",
   "metadata": {},
   "outputs": [
    {
     "name": "stdout",
     "output_type": "stream",
     "text": [
      "68\n",
      "2011\n",
      "13600\n",
      "None\n",
      "None\n"
     ]
    }
   ],
   "source": [
    "for grandchild in child:\n",
    "    print(grandchild.text)"
   ]
  },
  {
   "cell_type": "markdown",
   "id": "e9473bb7-34ff-4311-ae1a-f3c892244f30",
   "metadata": {},
   "source": [
    "Some of the grandchildren nodes have associated text, and others don't."
   ]
  },
  {
   "cell_type": "markdown",
   "id": "58b33b6c-e84e-40f7-a748-7a841b0c527b",
   "metadata": {},
   "source": [
    "We can use the .iter() method to pull elements with specific tags throughout the tree. For example, we can pull all elements tagged 'neighbor':"
   ]
  },
  {
   "cell_type": "code",
   "execution_count": 39,
   "id": "66b3686f-af02-454f-9d1e-08ee9b48af13",
   "metadata": {},
   "outputs": [
    {
     "name": "stdout",
     "output_type": "stream",
     "text": [
      "<Element 'neighbor' at 0x10ad74310>\n",
      "<Element 'neighbor' at 0x10ad74360>\n",
      "<Element 'neighbor' at 0x10ad744f0>\n",
      "<Element 'neighbor' at 0x10ad74680>\n",
      "<Element 'neighbor' at 0x10ad746d0>\n"
     ]
    }
   ],
   "source": [
    "for neighbor in root.iter('neighbor'):\n",
    "    print(neighbor)"
   ]
  },
  {
   "cell_type": "markdown",
   "id": "f01651b3-f8bd-47db-9539-6bc29c5ead6b",
   "metadata": {},
   "source": [
    "We can also use the `.get()` method to pull a certain attribute from an element:"
   ]
  },
  {
   "cell_type": "code",
   "execution_count": 82,
   "id": "815af353-6636-4b54-9299-13ad7946acfe",
   "metadata": {},
   "outputs": [
    {
     "data": {
      "text/plain": [
       "{'name': 'Panama'}"
      ]
     },
     "execution_count": 82,
     "metadata": {},
     "output_type": "execute_result"
    }
   ],
   "source": [
    "element = root[2]\n",
    "element.attrib"
   ]
  },
  {
   "cell_type": "code",
   "execution_count": 83,
   "id": "35e832f4-0a16-4fe6-ba9d-7eac3034c9c0",
   "metadata": {},
   "outputs": [
    {
     "data": {
      "text/plain": [
       "'Panama'"
      ]
     },
     "execution_count": 83,
     "metadata": {},
     "output_type": "execute_result"
    }
   ],
   "source": [
    "element.get('name')"
   ]
  },
  {
   "cell_type": "markdown",
   "id": "f86606b8-a35d-4d6d-ab63-88acef14bef9",
   "metadata": {},
   "source": [
    "Element attributes can also be returned as a list of tuples:"
   ]
  },
  {
   "cell_type": "code",
   "execution_count": 100,
   "id": "025f3c3b-8864-4e17-8d43-b80641c4a97c",
   "metadata": {},
   "outputs": [
    {
     "data": {
      "text/plain": [
       "[('name', 'Panama')]"
      ]
     },
     "execution_count": 100,
     "metadata": {},
     "output_type": "execute_result"
    }
   ],
   "source": [
    "element.items()"
   ]
  },
  {
   "cell_type": "markdown",
   "id": "2bd77b0c-8225-44e8-b5c7-fbc2321b1805",
   "metadata": {},
   "source": [
    "The keys of the attributes can also be returned:"
   ]
  },
  {
   "cell_type": "code",
   "execution_count": 101,
   "id": "2510cd7f-ed28-4979-a570-36332fed7c2d",
   "metadata": {},
   "outputs": [
    {
     "data": {
      "text/plain": [
       "['name']"
      ]
     },
     "execution_count": 101,
     "metadata": {},
     "output_type": "execute_result"
    }
   ],
   "source": [
    "element.keys()"
   ]
  },
  {
   "cell_type": "markdown",
   "id": "254a47ee-1860-415e-9c77-da76b39509b1",
   "metadata": {},
   "source": [
    "# Apple Health Data\n",
    "\n",
    "What is the structure of the Apple Health app export?"
   ]
  },
  {
   "cell_type": "code",
   "execution_count": 3,
   "id": "3e882ea0-d929-491a-b785-6b7bbbd750e5",
   "metadata": {},
   "outputs": [
    {
     "data": {
      "text/plain": [
       "377926"
      ]
     },
     "execution_count": 3,
     "metadata": {},
     "output_type": "execute_result"
    }
   ],
   "source": [
    "file = os.path.join('data', 'apple_health_export', 'export.xml')\n",
    "health = ET.parse(file)\n",
    "\n",
    "health_root = health.getroot()\n",
    "len(health_root)"
   ]
  },
  {
   "cell_type": "markdown",
   "id": "92cdc90b-653a-47dd-84ab-e4f2f117e680",
   "metadata": {},
   "source": [
    "There are a ton of entries in this XML file. What are the tags?"
   ]
  },
  {
   "cell_type": "code",
   "execution_count": 4,
   "id": "37b14464-0f42-430e-a6d4-7a3bb5985b35",
   "metadata": {},
   "outputs": [
    {
     "data": {
      "text/plain": [
       "{'ExportDate', 'Me', 'Record', 'Workout'}"
      ]
     },
     "execution_count": 4,
     "metadata": {},
     "output_type": "execute_result"
    }
   ],
   "source": [
    "tags_all = [child.tag for child in health_root]\n",
    "tags_unique = set(tags_all)\n",
    "tags_unique"
   ]
  },
  {
   "cell_type": "markdown",
   "id": "499ec9b3-da3f-44c7-8bbf-12f8502debc4",
   "metadata": {},
   "source": [
    "There are only 4 kinds of tags. How many elements do each of these tags have?"
   ]
  },
  {
   "cell_type": "code",
   "execution_count": 5,
   "id": "d0193ad8-2c73-40a0-a5ff-96fc18f3a7c4",
   "metadata": {},
   "outputs": [
    {
     "name": "stdout",
     "output_type": "stream",
     "text": [
      "Workout: 111\n",
      "Me: 1\n",
      "Record: 377813\n",
      "ExportDate: 1\n"
     ]
    }
   ],
   "source": [
    "for tag in tags_unique:\n",
    "    tag_list = [child for child in health_root.iter(tag)]\n",
    "    print(\"{}: {}\".format(tag, len(tag_list)))"
   ]
  },
  {
   "cell_type": "markdown",
   "id": "a42349b7-47de-4b75-8b7e-a5dcdb113c59",
   "metadata": {},
   "source": [
    "So most of the data is stored in tags \"Workout\" and \"Record\""
   ]
  },
  {
   "cell_type": "markdown",
   "id": "cc5c898d-da1e-45e0-bc79-6e392b7867ad",
   "metadata": {},
   "source": [
    "What does the top of the data look like?"
   ]
  },
  {
   "cell_type": "code",
   "execution_count": 6,
   "id": "b72b2e35-8521-4da9-84ed-8e91d17c8965",
   "metadata": {},
   "outputs": [
    {
     "name": "stdout",
     "output_type": "stream",
     "text": [
      "<Element 'ExportDate' at 0x10b3e11c0>\n",
      "<Element 'Me' at 0x10b3e13a0>\n",
      "<Element 'Record' at 0x10b3e1530>\n",
      "<Element 'Record' at 0x10b3e1710>\n",
      "<Element 'Record' at 0x10b3e18a0>\n",
      "<Element 'Record' at 0x10b3e1a30>\n",
      "<Element 'Record' at 0x10b3e1bc0>\n",
      "<Element 'Record' at 0x10b3e1d50>\n",
      "<Element 'Record' at 0x10b3e1ee0>\n",
      "<Element 'Record' at 0x10b3e2070>\n"
     ]
    }
   ],
   "source": [
    "for child in health_root[:10]:\n",
    "    print(child)"
   ]
  },
  {
   "cell_type": "markdown",
   "id": "eb1109fd-6d61-4b85-b93f-3bbb1b06436e",
   "metadata": {},
   "source": [
    "Let's look at one of these 'Record' elements"
   ]
  },
  {
   "cell_type": "code",
   "execution_count": 7,
   "id": "9b94cd2f-ee12-440c-9b6e-cb9a2a5c328a",
   "metadata": {},
   "outputs": [
    {
     "data": {
      "text/plain": [
       "{'type': 'HKQuantityTypeIdentifierHeight',\n",
       " 'sourceName': 'Health',\n",
       " 'sourceVersion': '10.0.1',\n",
       " 'unit': 'ft',\n",
       " 'creationDate': '2016-12-06 17:49:02 -0400',\n",
       " 'startDate': '2016-12-06 17:48:00 -0400',\n",
       " 'endDate': '2016-12-06 17:48:00 -0400',\n",
       " 'value': '5.33333'}"
      ]
     },
     "execution_count": 7,
     "metadata": {},
     "output_type": "execute_result"
    }
   ],
   "source": [
    "record = health_root[2]\n",
    "record.attrib"
   ]
  },
  {
   "cell_type": "markdown",
   "id": "bfe0b37e-a040-4f22-8ae6-be538d7a7fdb",
   "metadata": {},
   "source": [
    "Does the record have any text?"
   ]
  },
  {
   "cell_type": "code",
   "execution_count": 8,
   "id": "c69b9f9d-2209-4ca3-8ff3-1c85fe6d076e",
   "metadata": {},
   "outputs": [
    {
     "name": "stdout",
     "output_type": "stream",
     "text": [
      "'\\n  '\n"
     ]
    }
   ],
   "source": [
    "print(repr(record.text))"
   ]
  },
  {
   "attachments": {},
   "cell_type": "markdown",
   "id": "863bb424-4c63-494a-b9f0-3ac5e1044962",
   "metadata": {},
   "source": [
    "No.\n",
    "\n",
    "There's a bunch of informaiton about the type of record. I think the relevant thing here is the 'type' field of the attributes. \n",
    "\n",
    "So what are the different \"types\" of records that we have?"
   ]
  },
  {
   "cell_type": "code",
   "execution_count": 9,
   "id": "504eae19-0864-4af3-a320-280af3b6c814",
   "metadata": {},
   "outputs": [
    {
     "name": "stdout",
     "output_type": "stream",
     "text": [
      "32\n"
     ]
    }
   ],
   "source": [
    "record_types_unique = list(set(record_types_all))\n",
    "print(len(record_types_unique))"
   ]
  },
  {
   "cell_type": "markdown",
   "id": "50d2e9c9-08aa-424d-94a7-78aae2e7590a",
   "metadata": {},
   "source": [
    "There are 32 unique record types. What are they?"
   ]
  },
  {
   "cell_type": "code",
   "execution_count": 10,
   "id": "36ddb858-d3d6-49f9-927f-cd3b98321ec9",
   "metadata": {},
   "outputs": [
    {
     "data": {
      "text/plain": [
       "['HKQuantityTypeIdentifierWalkingStepLength',\n",
       " 'HKQuantityTypeIdentifierBasalEnergyBurned',\n",
       " 'HKQuantityTypeIdentifierActiveEnergyBurned',\n",
       " 'HKQuantityTypeIdentifierHeadphoneAudioExposure',\n",
       " 'HKQuantityTypeIdentifierDietarySugar',\n",
       " 'HKCategoryTypeIdentifierToothbrushingEvent',\n",
       " 'HKQuantityTypeIdentifierDietaryFatSaturated',\n",
       " 'HKQuantityTypeIdentifierDietaryFatTotal',\n",
       " 'HKQuantityTypeIdentifierStepCount',\n",
       " 'HKQuantityTypeIdentifierDistanceWalkingRunning',\n",
       " 'HKQuantityTypeIdentifierDietaryFatPolyunsaturated',\n",
       " 'HKCategoryTypeIdentifierMindfulSession',\n",
       " 'HKQuantityTypeIdentifierDietaryEnergyConsumed',\n",
       " 'HKQuantityTypeIdentifierWalkingSpeed',\n",
       " 'HKQuantityTypeIdentifierWalkingDoubleSupportPercentage',\n",
       " 'HKQuantityTypeIdentifierDietaryIron',\n",
       " 'HKQuantityTypeIdentifierFlightsClimbed',\n",
       " 'HKQuantityTypeIdentifierWalkingAsymmetryPercentage',\n",
       " 'HKQuantityTypeIdentifierAppleWalkingSteadiness',\n",
       " 'HKQuantityTypeIdentifierDietarySodium',\n",
       " 'HKQuantityTypeIdentifierDietaryCarbohydrates',\n",
       " 'HKDataTypeSleepDurationGoal',\n",
       " 'HKQuantityTypeIdentifierDietaryFatMonounsaturated',\n",
       " 'HKQuantityTypeIdentifierDietaryCalcium',\n",
       " 'HKQuantityTypeIdentifierDietaryCholesterol',\n",
       " 'HKQuantityTypeIdentifierHeight',\n",
       " 'HKCategoryTypeIdentifierSleepAnalysis',\n",
       " 'HKQuantityTypeIdentifierDietaryVitaminC',\n",
       " 'HKQuantityTypeIdentifierBodyMass',\n",
       " 'HKQuantityTypeIdentifierDietaryFiber',\n",
       " 'HKQuantityTypeIdentifierDietaryProtein',\n",
       " 'HKQuantityTypeIdentifierDietaryPotassium']"
      ]
     },
     "execution_count": 10,
     "metadata": {},
     "output_type": "execute_result"
    }
   ],
   "source": [
    "record_types_unique"
   ]
  },
  {
   "attachments": {},
   "cell_type": "markdown",
   "id": "12c395b4-01a8-467f-b5bb-ac27a740c746",
   "metadata": {},
   "source": [
    "Notice how these type names also contain information. We have \"Quantity\", \"Category\", and \"Data\" types of records. \n",
    "\n",
    "There is a lot of information stored here. It seems like most of the information from Apple Health is stored in the records. \n",
    "\n",
    "How do I extract this data? Let's start by looking at height. "
   ]
  },
  {
   "cell_type": "code",
   "execution_count": 11,
   "id": "a19f9bbd-86bb-440e-9ba8-c167b397b608",
   "metadata": {},
   "outputs": [
    {
     "name": "stdout",
     "output_type": "stream",
     "text": [
      "1\n"
     ]
    }
   ],
   "source": [
    "height_records = [child.attrib for child in health_root if child.get('type') == 'HKQuantityTypeIdentifierHeight']\n",
    "print(len(height_records))"
   ]
  },
  {
   "cell_type": "markdown",
   "id": "0b2ee4c8-92fb-4c70-81ad-8def94ce53e4",
   "metadata": {},
   "source": [
    "We have a single record for height, which makes sense since I only entered my height once. \n",
    "What does this look like?"
   ]
  },
  {
   "cell_type": "code",
   "execution_count": 12,
   "id": "ce86bc01-360a-43ab-acbd-2f68918790af",
   "metadata": {},
   "outputs": [
    {
     "data": {
      "text/plain": [
       "[{'type': 'HKQuantityTypeIdentifierHeight',\n",
       "  'sourceName': 'Health',\n",
       "  'sourceVersion': '10.0.1',\n",
       "  'unit': 'ft',\n",
       "  'creationDate': '2016-12-06 17:49:02 -0400',\n",
       "  'startDate': '2016-12-06 17:48:00 -0400',\n",
       "  'endDate': '2016-12-06 17:48:00 -0400',\n",
       "  'value': '5.33333'}]"
      ]
     },
     "execution_count": 12,
     "metadata": {},
     "output_type": "execute_result"
    }
   ],
   "source": [
    "height_records"
   ]
  },
  {
   "cell_type": "markdown",
   "id": "f887543d-a3f3-4059-acb6-de46a6aaf5aa",
   "metadata": {},
   "source": [
    "Information get care about is probably the date, the unit, and the value.\n",
    "\n",
    "What about weight? I think the relevant type is 'HKQuantityTypeIdentifierBodyMass'."
   ]
  },
  {
   "cell_type": "code",
   "execution_count": 13,
   "id": "4a692076-433b-457b-bb03-62da49f40cf5",
   "metadata": {},
   "outputs": [
    {
     "name": "stdout",
     "output_type": "stream",
     "text": [
      "2227\n"
     ]
    }
   ],
   "source": [
    "weight_records = [child.attrib for child in health_root if child.get('type') == 'HKQuantityTypeIdentifierBodyMass']\n",
    "print(len(weight_records))"
   ]
  },
  {
   "cell_type": "markdown",
   "id": "d1769a8a-8625-4c9f-ac23-5193cde014ec",
   "metadata": {},
   "source": [
    "We've got a ton of data here. "
   ]
  },
  {
   "cell_type": "code",
   "execution_count": 14,
   "id": "09f5f179-70d6-46ed-98d8-33c75d9f6692",
   "metadata": {},
   "outputs": [
    {
     "data": {
      "text/plain": [
       "[{'type': 'HKQuantityTypeIdentifierBodyMass',\n",
       "  'sourceName': 'Health',\n",
       "  'sourceVersion': '10.0.1',\n",
       "  'unit': 'lb',\n",
       "  'creationDate': '2016-12-06 17:48:20 -0400',\n",
       "  'startDate': '2016-12-06 17:48:20 -0400',\n",
       "  'endDate': '2016-12-06 17:48:20 -0400',\n",
       "  'value': '132.277'},\n",
       " {'type': 'HKQuantityTypeIdentifierBodyMass',\n",
       "  'sourceName': 'MyFitnessPal',\n",
       "  'sourceVersion': '18277',\n",
       "  'unit': 'lb',\n",
       "  'creationDate': '2016-12-06 18:48:55 -0400',\n",
       "  'startDate': '2016-12-05 18:48:00 -0400',\n",
       "  'endDate': '2016-12-05 18:48:00 -0400',\n",
       "  'value': '121'},\n",
       " {'type': 'HKQuantityTypeIdentifierBodyMass',\n",
       "  'sourceName': 'MyFitnessPal',\n",
       "  'sourceVersion': '18277',\n",
       "  'unit': 'lb',\n",
       "  'creationDate': '2016-12-07 12:27:10 -0400',\n",
       "  'startDate': '2016-12-06 12:27:00 -0400',\n",
       "  'endDate': '2016-12-06 12:27:00 -0400',\n",
       "  'value': '118.4'},\n",
       " {'type': 'HKQuantityTypeIdentifierBodyMass',\n",
       "  'sourceName': 'MyFitnessPal',\n",
       "  'sourceVersion': '18277',\n",
       "  'unit': 'lb',\n",
       "  'creationDate': '2016-12-08 12:51:13 -0400',\n",
       "  'startDate': '2016-12-07 12:51:00 -0400',\n",
       "  'endDate': '2016-12-07 12:51:00 -0400',\n",
       "  'value': '119.4'},\n",
       " {'type': 'HKQuantityTypeIdentifierBodyMass',\n",
       "  'sourceName': 'MyFitnessPal',\n",
       "  'sourceVersion': '18277',\n",
       "  'unit': 'lb',\n",
       "  'creationDate': '2016-12-09 12:23:31 -0400',\n",
       "  'startDate': '2016-12-08 12:23:00 -0400',\n",
       "  'endDate': '2016-12-08 12:23:00 -0400',\n",
       "  'value': '120.4'}]"
      ]
     },
     "execution_count": 14,
     "metadata": {},
     "output_type": "execute_result"
    }
   ],
   "source": [
    "weight_records[:5]"
   ]
  },
  {
   "cell_type": "markdown",
   "id": "f1fded6f-a257-4388-8fd6-4cf47990b36b",
   "metadata": {},
   "source": [
    "At this point I could extract this into a data frame. I can't do it with all records, but I can probably do it with all records of a certain type. "
   ]
  },
  {
   "cell_type": "code",
   "execution_count": 15,
   "id": "9fcb9f07-84fd-4bd7-a81e-0066de062354",
   "metadata": {},
   "outputs": [
    {
     "data": {
      "text/plain": [
       "{8}"
      ]
     },
     "execution_count": 15,
     "metadata": {},
     "output_type": "execute_result"
    }
   ],
   "source": [
    "set([len(x) for x in weight_records])"
   ]
  },
  {
   "cell_type": "markdown",
   "id": "1875fe52-3d69-4219-b2fd-4bfe2e13231c",
   "metadata": {},
   "source": [
    "All of these weight records have the same length. \n",
    "I would need to reshape it to get it into data frame format though. Or convert each entry to a data frame and concatenate them. "
   ]
  },
  {
   "cell_type": "code",
   "execution_count": 16,
   "id": "4639b53f-024f-46bf-9bf7-8430e0699c42",
   "metadata": {},
   "outputs": [
    {
     "data": {
      "text/plain": [
       "['type',\n",
       " 'sourceName',\n",
       " 'sourceVersion',\n",
       " 'unit',\n",
       " 'creationDate',\n",
       " 'startDate',\n",
       " 'endDate',\n",
       " 'value']"
      ]
     },
     "execution_count": 16,
     "metadata": {},
     "output_type": "execute_result"
    }
   ],
   "source": [
    "weight_keys = list(weight_records[0].keys())\n",
    "weight_keys"
   ]
  },
  {
   "cell_type": "code",
   "execution_count": 17,
   "id": "3ad7aecc-f075-45be-b4cb-9bdb6058175a",
   "metadata": {},
   "outputs": [],
   "source": [
    "weight_dict = {key:None for key in weight_keys}\n",
    "for key in weight_dict.keys():\n",
    "    weight_dict[key] = [record[key] for record in weight_records]"
   ]
  },
  {
   "cell_type": "code",
   "execution_count": 18,
   "id": "c1b7faeb-142e-4bcb-8088-f0c0c3555867",
   "metadata": {},
   "outputs": [],
   "source": [
    "import pandas as pd\n",
    "df_weight = pd.DataFrame(weight_dict)\n",
    "\n",
    "outfile = 'apple_health_weight.csv'\n",
    "df_weight.to_csv(outfile, index = False)"
   ]
  },
  {
   "cell_type": "markdown",
   "id": "f55a412c-c9e2-450a-9d14-b51e59ae46d4",
   "metadata": {},
   "source": [
    "There you go. I've parsed the weight data from Apple Health and extracted it to CSV for further analysis. "
   ]
  },
  {
   "cell_type": "markdown",
   "id": "8e489c25-c0cb-4664-8d5e-c9ba5bbee779",
   "metadata": {},
   "source": [
    "What else do we have in these records?"
   ]
  },
  {
   "cell_type": "code",
   "execution_count": 29,
   "id": "86e0e03d-3d05-4189-9778-8867fca98522",
   "metadata": {},
   "outputs": [
    {
     "data": {
      "text/plain": [
       "['HKCategoryTypeIdentifierMindfulSession',\n",
       " 'HKCategoryTypeIdentifierSleepAnalysis',\n",
       " 'HKCategoryTypeIdentifierToothbrushingEvent',\n",
       " 'HKDataTypeSleepDurationGoal',\n",
       " 'HKQuantityTypeIdentifierActiveEnergyBurned',\n",
       " 'HKQuantityTypeIdentifierAppleWalkingSteadiness',\n",
       " 'HKQuantityTypeIdentifierBasalEnergyBurned',\n",
       " 'HKQuantityTypeIdentifierBodyMass',\n",
       " 'HKQuantityTypeIdentifierDietaryCalcium',\n",
       " 'HKQuantityTypeIdentifierDietaryCarbohydrates',\n",
       " 'HKQuantityTypeIdentifierDietaryCholesterol',\n",
       " 'HKQuantityTypeIdentifierDietaryEnergyConsumed',\n",
       " 'HKQuantityTypeIdentifierDietaryFatMonounsaturated',\n",
       " 'HKQuantityTypeIdentifierDietaryFatPolyunsaturated',\n",
       " 'HKQuantityTypeIdentifierDietaryFatSaturated',\n",
       " 'HKQuantityTypeIdentifierDietaryFatTotal',\n",
       " 'HKQuantityTypeIdentifierDietaryFiber',\n",
       " 'HKQuantityTypeIdentifierDietaryIron',\n",
       " 'HKQuantityTypeIdentifierDietaryPotassium',\n",
       " 'HKQuantityTypeIdentifierDietaryProtein',\n",
       " 'HKQuantityTypeIdentifierDietarySodium',\n",
       " 'HKQuantityTypeIdentifierDietarySugar',\n",
       " 'HKQuantityTypeIdentifierDietaryVitaminC',\n",
       " 'HKQuantityTypeIdentifierDistanceWalkingRunning',\n",
       " 'HKQuantityTypeIdentifierFlightsClimbed',\n",
       " 'HKQuantityTypeIdentifierHeadphoneAudioExposure',\n",
       " 'HKQuantityTypeIdentifierHeight',\n",
       " 'HKQuantityTypeIdentifierStepCount',\n",
       " 'HKQuantityTypeIdentifierWalkingAsymmetryPercentage',\n",
       " 'HKQuantityTypeIdentifierWalkingDoubleSupportPercentage',\n",
       " 'HKQuantityTypeIdentifierWalkingSpeed',\n",
       " 'HKQuantityTypeIdentifierWalkingStepLength']"
      ]
     },
     "execution_count": 29,
     "metadata": {},
     "output_type": "execute_result"
    }
   ],
   "source": [
    "sorted(record_types_unique)"
   ]
  },
  {
   "cell_type": "markdown",
   "id": "2c3f253c-9c59-46bc-a943-04a9b24533c9",
   "metadata": {},
   "source": [
    "Lots of these contains \"Dietary\" information."
   ]
  },
  {
   "cell_type": "code",
   "execution_count": 116,
   "id": "f680302b-49cd-4e34-854a-8c8242da878f",
   "metadata": {},
   "outputs": [
    {
     "data": {
      "text/plain": [
       "['HKQuantityTypeIdentifierDietaryCalcium',\n",
       " 'HKQuantityTypeIdentifierDietaryCarbohydrates',\n",
       " 'HKQuantityTypeIdentifierDietaryCholesterol',\n",
       " 'HKQuantityTypeIdentifierDietaryEnergyConsumed',\n",
       " 'HKQuantityTypeIdentifierDietaryFatMonounsaturated',\n",
       " 'HKQuantityTypeIdentifierDietaryFatPolyunsaturated',\n",
       " 'HKQuantityTypeIdentifierDietaryFatSaturated',\n",
       " 'HKQuantityTypeIdentifierDietaryFatTotal',\n",
       " 'HKQuantityTypeIdentifierDietaryFiber',\n",
       " 'HKQuantityTypeIdentifierDietaryIron',\n",
       " 'HKQuantityTypeIdentifierDietaryPotassium',\n",
       " 'HKQuantityTypeIdentifierDietaryProtein',\n",
       " 'HKQuantityTypeIdentifierDietarySodium',\n",
       " 'HKQuantityTypeIdentifierDietarySugar',\n",
       " 'HKQuantityTypeIdentifierDietaryVitaminC']"
      ]
     },
     "execution_count": 116,
     "metadata": {},
     "output_type": "execute_result"
    }
   ],
   "source": [
    "dietary_types = [record for record in record_types_unique if 'Dietary' in record]\n",
    "dietary_types"
   ]
  },
  {
   "cell_type": "markdown",
   "id": "17991f43-974b-4edf-8ba8-dcff5b951189",
   "metadata": {},
   "source": [
    "We've got all of this nutritional information. \n",
    "Is there total calories somewhere? I think it's the \"EnergyConsumed\" entry."
   ]
  },
  {
   "cell_type": "code",
   "execution_count": 30,
   "id": "e188643d-f6c5-4e6e-a877-2f3efbc8f16d",
   "metadata": {},
   "outputs": [
    {
     "name": "stdout",
     "output_type": "stream",
     "text": [
      "3301\n"
     ]
    }
   ],
   "source": [
    "caloric_records = [child.attrib for child in health_root if child.get('type') == 'HKQuantityTypeIdentifierDietaryEnergyConsumed']\n",
    "print(len(caloric_records))"
   ]
  },
  {
   "cell_type": "code",
   "execution_count": 33,
   "id": "bdde670c-bd8f-4604-8539-203bc4bc8c98",
   "metadata": {},
   "outputs": [
    {
     "data": {
      "text/plain": [
       "[{'type': 'HKQuantityTypeIdentifierDietaryEnergyConsumed',\n",
       "  'sourceName': 'MyFitnessPal',\n",
       "  'sourceVersion': '52161',\n",
       "  'unit': 'Cal',\n",
       "  'creationDate': '2024-08-28 19:58:33 -0400',\n",
       "  'startDate': '2024-08-28 11:36:00 -0400',\n",
       "  'endDate': '2024-08-28 11:36:00 -0400',\n",
       "  'value': '620'},\n",
       " {'type': 'HKQuantityTypeIdentifierDietaryEnergyConsumed',\n",
       "  'sourceName': 'MyFitnessPal',\n",
       "  'sourceVersion': '52161',\n",
       "  'unit': 'Cal',\n",
       "  'creationDate': '2024-08-29 13:09:46 -0400',\n",
       "  'startDate': '2024-08-29 13:09:00 -0400',\n",
       "  'endDate': '2024-08-29 13:09:00 -0400',\n",
       "  'value': '525.02'},\n",
       " {'type': 'HKQuantityTypeIdentifierDietaryEnergyConsumed',\n",
       "  'sourceName': 'MyFitnessPal',\n",
       "  'sourceVersion': '52161',\n",
       "  'unit': 'Cal',\n",
       "  'creationDate': '2024-08-29 13:09:49 -0400',\n",
       "  'startDate': '2024-08-29 13:09:00 -0400',\n",
       "  'endDate': '2024-08-29 13:09:00 -0400',\n",
       "  'value': '525.6'},\n",
       " {'type': 'HKQuantityTypeIdentifierDietaryEnergyConsumed',\n",
       "  'sourceName': 'MyFitnessPal',\n",
       "  'sourceVersion': '52161',\n",
       "  'unit': 'Cal',\n",
       "  'creationDate': '2024-08-29 17:13:33 -0400',\n",
       "  'startDate': '2024-08-29 13:09:00 -0400',\n",
       "  'endDate': '2024-08-29 13:09:00 -0400',\n",
       "  'value': '340'},\n",
       " {'type': 'HKQuantityTypeIdentifierDietaryEnergyConsumed',\n",
       "  'sourceName': 'MyFitnessPal',\n",
       "  'sourceVersion': '52161',\n",
       "  'unit': 'Cal',\n",
       "  'creationDate': '2024-08-29 23:40:39 -0400',\n",
       "  'startDate': '2024-08-29 23:40:00 -0400',\n",
       "  'endDate': '2024-08-29 23:40:00 -0400',\n",
       "  'value': '590.625'}]"
      ]
     },
     "execution_count": 33,
     "metadata": {},
     "output_type": "execute_result"
    }
   ],
   "source": [
    "caloric_records[(len(caloric_records)-5):]"
   ]
  },
  {
   "cell_type": "markdown",
   "id": "ad543a57-a382-467d-aacc-ec2d2ea73004",
   "metadata": {},
   "source": [
    "Notice how there are multiple entries on the same day. Taking a look at MyFitnessPal, it looks like these entries correspond to specific meal categories. \n",
    "Am I missing information here?"
   ]
  },
  {
   "cell_type": "code",
   "execution_count": 52,
   "id": "c96f8db3-03f4-4294-840b-c9868f4713bc",
   "metadata": {},
   "outputs": [
    {
     "data": {
      "text/plain": [
       "243840"
      ]
     },
     "execution_count": 52,
     "metadata": {},
     "output_type": "execute_result"
    }
   ],
   "source": [
    "caloric_indices = []\n",
    "for i in range(len(health_root)):\n",
    "    element = health_root[i]\n",
    "    if element.tag == 'Record':\n",
    "        element_type = element.get('type')\n",
    "        if element_type == 'HKQuantityTypeIdentifierDietaryEnergyConsumed':\n",
    "            caloric_indices.append(i)\n",
    "\n",
    "caloric_indices[0]"
   ]
  },
  {
   "cell_type": "code",
   "execution_count": 55,
   "id": "62079432-8238-465b-9c5b-a362ddc80209",
   "metadata": {},
   "outputs": [
    {
     "data": {
      "text/plain": [
       "{'type': 'HKQuantityTypeIdentifierDietaryEnergyConsumed',\n",
       " 'sourceName': 'MyFitnessPal',\n",
       " 'sourceVersion': '18277',\n",
       " 'unit': 'Cal',\n",
       " 'creationDate': '2016-12-06 18:54:42 -0400',\n",
       " 'startDate': '2016-12-05 18:54:00 -0400',\n",
       " 'endDate': '2016-12-05 18:54:00 -0400',\n",
       " 'value': '585'}"
      ]
     },
     "execution_count": 55,
     "metadata": {},
     "output_type": "execute_result"
    }
   ],
   "source": [
    "caloric_element = health_root[caloric_indices[0]]\n",
    "caloric_element.attrib"
   ]
  },
  {
   "cell_type": "code",
   "execution_count": 56,
   "id": "0111dd91-9cc3-4bb1-a628-375e82805665",
   "metadata": {},
   "outputs": [
    {
     "data": {
      "text/plain": [
       "2"
      ]
     },
     "execution_count": 56,
     "metadata": {},
     "output_type": "execute_result"
    }
   ],
   "source": [
    "len(caloric_element)"
   ]
  },
  {
   "cell_type": "code",
   "execution_count": 57,
   "id": "02a5ada5-12de-415a-b4ed-24e1ca8bf3d2",
   "metadata": {},
   "outputs": [
    {
     "name": "stdout",
     "output_type": "stream",
     "text": [
      "<Element 'MetadataEntry' at 0x135cfc180>\n",
      "<Element 'MetadataEntry' at 0x135cfc1d0>\n"
     ]
    }
   ],
   "source": [
    "for node in caloric_element:\n",
    "    print(node)"
   ]
  },
  {
   "cell_type": "markdown",
   "id": "81365eea-728a-428f-9b93-c84c932e505b",
   "metadata": {},
   "source": [
    "So these caloric entries have child nodes with tag 'MetadataEntry'. What do these contain?"
   ]
  },
  {
   "cell_type": "code",
   "execution_count": 58,
   "id": "885be957-c078-4678-90f0-0a51cc3317e8",
   "metadata": {},
   "outputs": [
    {
     "name": "stdout",
     "output_type": "stream",
     "text": [
      "{'key': 'meal', 'value': 'Breakfast'}\n",
      "{'key': 'Meal', 'value': 'Breakfast'}\n"
     ]
    }
   ],
   "source": [
    "for node in caloric_element:\n",
    "    print(node.attrib)"
   ]
  },
  {
   "cell_type": "markdown",
   "id": "2baa3175-cb91-4933-b0ae-546645716e90",
   "metadata": {},
   "source": [
    "Perfect. They contain the meal information. I don't know why there are two entries though?"
   ]
  },
  {
   "cell_type": "code",
   "execution_count": 61,
   "id": "9563fdbf-eda9-4c7b-b555-a1a1955a7025",
   "metadata": {},
   "outputs": [
    {
     "name": "stdout",
     "output_type": "stream",
     "text": [
      "None\n",
      "None\n"
     ]
    }
   ],
   "source": [
    "for node in caloric_element:\n",
    "    print(node.text)"
   ]
  },
  {
   "cell_type": "markdown",
   "id": "e5a0ea0a-7f1c-441a-ad7d-ef09e7227224",
   "metadata": {},
   "source": [
    "No associated text.\n",
    "\n",
    "I can collate all of this into one dictionary."
   ]
  },
  {
   "cell_type": "code",
   "execution_count": 63,
   "id": "3e2e142f-772b-42c1-9ee9-68ffdc7ccf63",
   "metadata": {},
   "outputs": [
    {
     "data": {
      "text/plain": [
       "{'type': 'HKQuantityTypeIdentifierDietaryEnergyConsumed',\n",
       " 'sourceName': 'MyFitnessPal',\n",
       " 'sourceVersion': '18277',\n",
       " 'unit': 'Cal',\n",
       " 'creationDate': '2016-12-06 18:54:42 -0400',\n",
       " 'startDate': '2016-12-05 18:54:00 -0400',\n",
       " 'endDate': '2016-12-05 18:54:00 -0400',\n",
       " 'value': '585'}"
      ]
     },
     "execution_count": 63,
     "metadata": {},
     "output_type": "execute_result"
    }
   ],
   "source": [
    "caloric_records[0]"
   ]
  },
  {
   "cell_type": "code",
   "execution_count": 92,
   "id": "de4fc84d-f168-4b98-9a4c-0cae4a213ca8",
   "metadata": {},
   "outputs": [],
   "source": [
    "caloric_records = []\n",
    "for element in health_root.iter('Record'):\n",
    "    element_type = element.get('type')\n",
    "    if element_type == 'HKQuantityTypeIdentifierDietaryEnergyConsumed':\n",
    "        element_dict = element.attrib.copy()\n",
    "        element_dict.update({element[0].get('key'):element[0].get('value')})\n",
    "        caloric_records.append(element_dict)"
   ]
  },
  {
   "cell_type": "markdown",
   "id": "e187e24d-c476-4ad5-93b3-96f0d70f2163",
   "metadata": {},
   "source": [
    "Make sure all records have the same length:"
   ]
  },
  {
   "cell_type": "code",
   "execution_count": 96,
   "id": "5d53726b-641f-4a0e-909b-4c14e897fc68",
   "metadata": {},
   "outputs": [
    {
     "data": {
      "text/plain": [
       "{9}"
      ]
     },
     "execution_count": 96,
     "metadata": {},
     "output_type": "execute_result"
    }
   ],
   "source": [
    "set([len(record) for record in caloric_records])"
   ]
  },
  {
   "cell_type": "markdown",
   "id": "723338b7-7ea5-44cc-9ff3-636f0c034d7f",
   "metadata": {},
   "source": [
    "Now we need to reshape this."
   ]
  },
  {
   "cell_type": "code",
   "execution_count": 98,
   "id": "c5954b2f-1794-47a2-b9ae-0936e77a2164",
   "metadata": {},
   "outputs": [],
   "source": [
    "# Get the dictionary keys\n",
    "caloric_keys = list(caloric_records[0].keys())\n",
    "\n",
    "# Reshape the dictionary\n",
    "caloric_dict = {key:None for key in caloric_keys}\n",
    "for key in caloric_dict.keys():\n",
    "    caloric_dict[key] = [record[key] for record in caloric_records]"
   ]
  },
  {
   "cell_type": "code",
   "execution_count": 102,
   "id": "5692b92b-8362-474d-ac3f-7de3410c8546",
   "metadata": {},
   "outputs": [
    {
     "data": {
      "text/html": [
       "<div>\n",
       "<style scoped>\n",
       "    .dataframe tbody tr th:only-of-type {\n",
       "        vertical-align: middle;\n",
       "    }\n",
       "\n",
       "    .dataframe tbody tr th {\n",
       "        vertical-align: top;\n",
       "    }\n",
       "\n",
       "    .dataframe thead th {\n",
       "        text-align: right;\n",
       "    }\n",
       "</style>\n",
       "<table border=\"1\" class=\"dataframe\">\n",
       "  <thead>\n",
       "    <tr style=\"text-align: right;\">\n",
       "      <th></th>\n",
       "      <th>type</th>\n",
       "      <th>sourceName</th>\n",
       "      <th>sourceVersion</th>\n",
       "      <th>unit</th>\n",
       "      <th>creationDate</th>\n",
       "      <th>startDate</th>\n",
       "      <th>endDate</th>\n",
       "      <th>value</th>\n",
       "      <th>meal</th>\n",
       "    </tr>\n",
       "  </thead>\n",
       "  <tbody>\n",
       "    <tr>\n",
       "      <th>0</th>\n",
       "      <td>HKQuantityTypeIdentifierDietaryEnergyConsumed</td>\n",
       "      <td>MyFitnessPal</td>\n",
       "      <td>18277</td>\n",
       "      <td>Cal</td>\n",
       "      <td>2016-12-06 18:54:42 -0400</td>\n",
       "      <td>2016-12-05 18:54:00 -0400</td>\n",
       "      <td>2016-12-05 18:54:00 -0400</td>\n",
       "      <td>585</td>\n",
       "      <td>Breakfast</td>\n",
       "    </tr>\n",
       "    <tr>\n",
       "      <th>1</th>\n",
       "      <td>HKQuantityTypeIdentifierDietaryEnergyConsumed</td>\n",
       "      <td>MyFitnessPal</td>\n",
       "      <td>18277</td>\n",
       "      <td>Cal</td>\n",
       "      <td>2016-12-06 18:54:49 -0400</td>\n",
       "      <td>2016-12-05 18:54:00 -0400</td>\n",
       "      <td>2016-12-05 18:54:00 -0400</td>\n",
       "      <td>260</td>\n",
       "      <td>Snacks</td>\n",
       "    </tr>\n",
       "    <tr>\n",
       "      <th>2</th>\n",
       "      <td>HKQuantityTypeIdentifierDietaryEnergyConsumed</td>\n",
       "      <td>MyFitnessPal</td>\n",
       "      <td>18277</td>\n",
       "      <td>Cal</td>\n",
       "      <td>2016-12-06 18:55:03 -0400</td>\n",
       "      <td>2016-12-05 18:55:00 -0400</td>\n",
       "      <td>2016-12-05 18:55:00 -0400</td>\n",
       "      <td>680</td>\n",
       "      <td>Lunch</td>\n",
       "    </tr>\n",
       "    <tr>\n",
       "      <th>3</th>\n",
       "      <td>HKQuantityTypeIdentifierDietaryEnergyConsumed</td>\n",
       "      <td>MyFitnessPal</td>\n",
       "      <td>18277</td>\n",
       "      <td>Cal</td>\n",
       "      <td>2016-12-06 18:56:42 -0400</td>\n",
       "      <td>2016-12-06 18:56:00 -0400</td>\n",
       "      <td>2016-12-06 18:56:00 -0400</td>\n",
       "      <td>902</td>\n",
       "      <td>Breakfast</td>\n",
       "    </tr>\n",
       "    <tr>\n",
       "      <th>4</th>\n",
       "      <td>HKQuantityTypeIdentifierDietaryEnergyConsumed</td>\n",
       "      <td>MyFitnessPal</td>\n",
       "      <td>18277</td>\n",
       "      <td>Cal</td>\n",
       "      <td>2016-12-06 18:57:22 -0400</td>\n",
       "      <td>2016-12-06 18:56:00 -0400</td>\n",
       "      <td>2016-12-06 18:56:00 -0400</td>\n",
       "      <td>690.878</td>\n",
       "      <td>Dinner</td>\n",
       "    </tr>\n",
       "  </tbody>\n",
       "</table>\n",
       "</div>"
      ],
      "text/plain": [
       "                                            type    sourceName sourceVersion  \\\n",
       "0  HKQuantityTypeIdentifierDietaryEnergyConsumed  MyFitnessPal         18277   \n",
       "1  HKQuantityTypeIdentifierDietaryEnergyConsumed  MyFitnessPal         18277   \n",
       "2  HKQuantityTypeIdentifierDietaryEnergyConsumed  MyFitnessPal         18277   \n",
       "3  HKQuantityTypeIdentifierDietaryEnergyConsumed  MyFitnessPal         18277   \n",
       "4  HKQuantityTypeIdentifierDietaryEnergyConsumed  MyFitnessPal         18277   \n",
       "\n",
       "  unit               creationDate                  startDate  \\\n",
       "0  Cal  2016-12-06 18:54:42 -0400  2016-12-05 18:54:00 -0400   \n",
       "1  Cal  2016-12-06 18:54:49 -0400  2016-12-05 18:54:00 -0400   \n",
       "2  Cal  2016-12-06 18:55:03 -0400  2016-12-05 18:55:00 -0400   \n",
       "3  Cal  2016-12-06 18:56:42 -0400  2016-12-06 18:56:00 -0400   \n",
       "4  Cal  2016-12-06 18:57:22 -0400  2016-12-06 18:56:00 -0400   \n",
       "\n",
       "                     endDate    value       meal  \n",
       "0  2016-12-05 18:54:00 -0400      585  Breakfast  \n",
       "1  2016-12-05 18:54:00 -0400      260     Snacks  \n",
       "2  2016-12-05 18:55:00 -0400      680      Lunch  \n",
       "3  2016-12-06 18:56:00 -0400      902  Breakfast  \n",
       "4  2016-12-06 18:56:00 -0400  690.878     Dinner  "
      ]
     },
     "execution_count": 102,
     "metadata": {},
     "output_type": "execute_result"
    }
   ],
   "source": [
    "df_calories = pd.DataFrame(caloric_dict)\n",
    "df_calories.head()"
   ]
  },
  {
   "cell_type": "code",
   "execution_count": 104,
   "id": "a72374a3-abd0-498a-96bb-b10f379193b6",
   "metadata": {},
   "outputs": [],
   "source": [
    "outfile = 'apple_health_calories.csv'\n",
    "df_calories.to_csv(outfile, index = False)"
   ]
  },
  {
   "cell_type": "markdown",
   "id": "adbf728e-539c-49ea-9b94-204b46cda0c0",
   "metadata": {},
   "source": [
    "Okay that's great. Then I should have caloric entries for each meal. I should be able to join additional information on date. \n",
    "\n",
    "What does the other nutritional information look like? Is it also broken down by meal like this?"
   ]
  },
  {
   "cell_type": "code",
   "execution_count": 117,
   "id": "edf5f115-38c3-4472-810a-5f52fd1d2ff2",
   "metadata": {},
   "outputs": [
    {
     "data": {
      "text/plain": [
       "['HKQuantityTypeIdentifierDietaryCalcium',\n",
       " 'HKQuantityTypeIdentifierDietaryCarbohydrates',\n",
       " 'HKQuantityTypeIdentifierDietaryCholesterol',\n",
       " 'HKQuantityTypeIdentifierDietaryEnergyConsumed',\n",
       " 'HKQuantityTypeIdentifierDietaryFatMonounsaturated',\n",
       " 'HKQuantityTypeIdentifierDietaryFatPolyunsaturated',\n",
       " 'HKQuantityTypeIdentifierDietaryFatSaturated',\n",
       " 'HKQuantityTypeIdentifierDietaryFatTotal',\n",
       " 'HKQuantityTypeIdentifierDietaryFiber',\n",
       " 'HKQuantityTypeIdentifierDietaryIron',\n",
       " 'HKQuantityTypeIdentifierDietaryPotassium',\n",
       " 'HKQuantityTypeIdentifierDietaryProtein',\n",
       " 'HKQuantityTypeIdentifierDietarySodium',\n",
       " 'HKQuantityTypeIdentifierDietarySugar',\n",
       " 'HKQuantityTypeIdentifierDietaryVitaminC']"
      ]
     },
     "execution_count": 117,
     "metadata": {},
     "output_type": "execute_result"
    }
   ],
   "source": [
    "dietary_types"
   ]
  },
  {
   "cell_type": "markdown",
   "id": "d6984fec-d27d-4473-afe3-142c925ae25e",
   "metadata": {},
   "source": [
    "Let's take a look at protein. "
   ]
  },
  {
   "cell_type": "code",
   "execution_count": 107,
   "id": "9d4c07ec-1dcc-4246-9ce7-74a82dd6d407",
   "metadata": {},
   "outputs": [
    {
     "data": {
      "text/plain": [
       "247141"
      ]
     },
     "execution_count": 107,
     "metadata": {},
     "output_type": "execute_result"
    }
   ],
   "source": [
    "for i in range(len(health_root)):\n",
    "    element = health_root[i]\n",
    "    if element.tag == 'Record':\n",
    "        element_type = element.get('type')\n",
    "        if element_type == 'HKQuantityTypeIdentifierDietaryProtein':\n",
    "            first_protein_index = i\n",
    "            break\n",
    "\n",
    "first_protein_index"
   ]
  },
  {
   "cell_type": "code",
   "execution_count": 109,
   "id": "5c69e75e-da19-4c67-aae0-83840fc7576c",
   "metadata": {},
   "outputs": [
    {
     "data": {
      "text/plain": [
       "{'type': 'HKQuantityTypeIdentifierDietaryProtein',\n",
       " 'sourceName': 'MyFitnessPal',\n",
       " 'sourceVersion': '18277',\n",
       " 'unit': 'g',\n",
       " 'creationDate': '2016-12-06 18:54:42 -0400',\n",
       " 'startDate': '2016-12-05 18:54:00 -0400',\n",
       " 'endDate': '2016-12-05 18:54:00 -0400',\n",
       " 'value': '22.1'}"
      ]
     },
     "execution_count": 109,
     "metadata": {},
     "output_type": "execute_result"
    }
   ],
   "source": [
    "protein_element = health_root[first_protein_index]\n",
    "protein_element.attrib"
   ]
  },
  {
   "cell_type": "markdown",
   "id": "e899b592-144b-4c6c-aac9-0b28a392ed60",
   "metadata": {},
   "source": [
    "Okay the value looks small enough that this might be a meal."
   ]
  },
  {
   "cell_type": "code",
   "execution_count": 110,
   "id": "d5313cea-e81c-435b-9a86-baa58b6f420b",
   "metadata": {},
   "outputs": [
    {
     "data": {
      "text/plain": [
       "2"
      ]
     },
     "execution_count": 110,
     "metadata": {},
     "output_type": "execute_result"
    }
   ],
   "source": [
    "len(protein_element)"
   ]
  },
  {
   "cell_type": "code",
   "execution_count": 111,
   "id": "27636fbc-4e31-42e6-b1ab-b3e85cfca7c3",
   "metadata": {},
   "outputs": [
    {
     "name": "stdout",
     "output_type": "stream",
     "text": [
      "MetadataEntry\n",
      "MetadataEntry\n"
     ]
    }
   ],
   "source": [
    "for element in protein_element:\n",
    "    print(element.tag)"
   ]
  },
  {
   "cell_type": "markdown",
   "id": "f6f7345f-fb24-4d9f-8645-1a96ef39efcd",
   "metadata": {},
   "source": [
    "Getting similar MetadataEntry tags."
   ]
  },
  {
   "cell_type": "code",
   "execution_count": 112,
   "id": "2b47f3ed-518d-450e-97dc-959d71153a33",
   "metadata": {},
   "outputs": [
    {
     "name": "stdout",
     "output_type": "stream",
     "text": [
      "{'key': 'meal', 'value': 'Breakfast'}\n",
      "{'key': 'Meal', 'value': 'Breakfast'}\n"
     ]
    }
   ],
   "source": [
    "for element in protein_element:\n",
    "    print(element.attrib)"
   ]
  },
  {
   "cell_type": "markdown",
   "id": "f544540f-693a-47f5-a55b-86a204b00989",
   "metadata": {},
   "source": [
    "Great we also get meal information.\n",
    "\n",
    "I wonder, is this true for all of these dietary information entries? My guess is that it is for everything that is pulled from MyFitnessPal."
   ]
  },
  {
   "cell_type": "code",
   "execution_count": 118,
   "id": "6149abe3-c73e-485e-ada9-e6b9abdd0080",
   "metadata": {},
   "outputs": [
    {
     "data": {
      "text/plain": [
       "['HKQuantityTypeIdentifierDietaryCalcium',\n",
       " 'HKQuantityTypeIdentifierDietaryCarbohydrates',\n",
       " 'HKQuantityTypeIdentifierDietaryCholesterol',\n",
       " 'HKQuantityTypeIdentifierDietaryEnergyConsumed',\n",
       " 'HKQuantityTypeIdentifierDietaryFatMonounsaturated',\n",
       " 'HKQuantityTypeIdentifierDietaryFatPolyunsaturated',\n",
       " 'HKQuantityTypeIdentifierDietaryFatSaturated',\n",
       " 'HKQuantityTypeIdentifierDietaryFatTotal',\n",
       " 'HKQuantityTypeIdentifierDietaryFiber',\n",
       " 'HKQuantityTypeIdentifierDietaryIron',\n",
       " 'HKQuantityTypeIdentifierDietaryPotassium',\n",
       " 'HKQuantityTypeIdentifierDietaryProtein',\n",
       " 'HKQuantityTypeIdentifierDietarySodium',\n",
       " 'HKQuantityTypeIdentifierDietarySugar',\n",
       " 'HKQuantityTypeIdentifierDietaryVitaminC']"
      ]
     },
     "execution_count": 118,
     "metadata": {},
     "output_type": "execute_result"
    }
   ],
   "source": [
    "dietary_types"
   ]
  },
  {
   "cell_type": "code",
   "execution_count": 124,
   "id": "ad7373be-1880-4fee-8f25-9f74476cc6ee",
   "metadata": {},
   "outputs": [
    {
     "data": {
      "text/plain": [
       "{'HKQuantityTypeIdentifierDietaryCalcium': None,\n",
       " 'HKQuantityTypeIdentifierDietaryCarbohydrates': None,\n",
       " 'HKQuantityTypeIdentifierDietaryCholesterol': None,\n",
       " 'HKQuantityTypeIdentifierDietaryEnergyConsumed': None,\n",
       " 'HKQuantityTypeIdentifierDietaryFatMonounsaturated': None,\n",
       " 'HKQuantityTypeIdentifierDietaryFatPolyunsaturated': None,\n",
       " 'HKQuantityTypeIdentifierDietaryFatSaturated': None,\n",
       " 'HKQuantityTypeIdentifierDietaryFatTotal': None,\n",
       " 'HKQuantityTypeIdentifierDietaryFiber': None,\n",
       " 'HKQuantityTypeIdentifierDietaryIron': None,\n",
       " 'HKQuantityTypeIdentifierDietaryPotassium': None,\n",
       " 'HKQuantityTypeIdentifierDietaryProtein': None,\n",
       " 'HKQuantityTypeIdentifierDietarySodium': None,\n",
       " 'HKQuantityTypeIdentifierDietarySugar': None,\n",
       " 'HKQuantityTypeIdentifierDietaryVitaminC': None}"
      ]
     },
     "execution_count": 124,
     "metadata": {},
     "output_type": "execute_result"
    }
   ],
   "source": [
    "dietary_dict = {key:None for key in dietary_types}\n",
    "dietary_dict"
   ]
  },
  {
   "cell_type": "code",
   "execution_count": 135,
   "id": "87be9be6-166e-41d5-bd10-a94ae1474a10",
   "metadata": {},
   "outputs": [
    {
     "data": {
      "text/plain": [
       "{'HKQuantityTypeIdentifierDietaryCalcium': [2],\n",
       " 'HKQuantityTypeIdentifierDietaryCarbohydrates': [2],\n",
       " 'HKQuantityTypeIdentifierDietaryCholesterol': [2],\n",
       " 'HKQuantityTypeIdentifierDietaryEnergyConsumed': [2],\n",
       " 'HKQuantityTypeIdentifierDietaryFatMonounsaturated': [2],\n",
       " 'HKQuantityTypeIdentifierDietaryFatPolyunsaturated': [2],\n",
       " 'HKQuantityTypeIdentifierDietaryFatSaturated': [2],\n",
       " 'HKQuantityTypeIdentifierDietaryFatTotal': [2],\n",
       " 'HKQuantityTypeIdentifierDietaryFiber': [2],\n",
       " 'HKQuantityTypeIdentifierDietaryIron': [2],\n",
       " 'HKQuantityTypeIdentifierDietaryPotassium': [2],\n",
       " 'HKQuantityTypeIdentifierDietaryProtein': [2],\n",
       " 'HKQuantityTypeIdentifierDietarySodium': [2],\n",
       " 'HKQuantityTypeIdentifierDietarySugar': [2],\n",
       " 'HKQuantityTypeIdentifierDietaryVitaminC': [2]}"
      ]
     },
     "execution_count": 135,
     "metadata": {},
     "output_type": "execute_result"
    }
   ],
   "source": [
    "for key, val in dietary_dict.items():\n",
    "    # key = 'HKQuantityTypeIdentifierDietaryCalcium'\n",
    "    dietary_dict[key] = []\n",
    "    for element in health_root.iter('Record'):\n",
    "        element_type = element.get('type')\n",
    "        if element_type == dietary_type:\n",
    "            dietary_dict[key].append(len(element))\n",
    "    dietary_dict[key] = list(set(dietary_dict[key]))\n",
    "\n",
    "dietary_dict"
   ]
  },
  {
   "cell_type": "markdown",
   "id": "7b689141-b746-4bf2-9966-039ae16e54b6",
   "metadata": {},
   "source": [
    "All of these different dietary elements have 2 sub-elements. I'm betting those are probably meal information from MyFitnessPal. \n",
    "\n",
    "What's the next move then? Extract all dietary information as a set of CSVs. I basically just need to look what I did for the calories. "
   ]
  },
  {
   "cell_type": "code",
   "execution_count": 136,
   "id": "c4351cd9-6d1e-473f-bd5c-d233d0c191df",
   "metadata": {},
   "outputs": [
    {
     "data": {
      "text/plain": [
       "['HKQuantityTypeIdentifierDietaryCalcium',\n",
       " 'HKQuantityTypeIdentifierDietaryCarbohydrates',\n",
       " 'HKQuantityTypeIdentifierDietaryCholesterol',\n",
       " 'HKQuantityTypeIdentifierDietaryEnergyConsumed',\n",
       " 'HKQuantityTypeIdentifierDietaryFatMonounsaturated',\n",
       " 'HKQuantityTypeIdentifierDietaryFatPolyunsaturated',\n",
       " 'HKQuantityTypeIdentifierDietaryFatSaturated',\n",
       " 'HKQuantityTypeIdentifierDietaryFatTotal',\n",
       " 'HKQuantityTypeIdentifierDietaryFiber',\n",
       " 'HKQuantityTypeIdentifierDietaryIron',\n",
       " 'HKQuantityTypeIdentifierDietaryPotassium',\n",
       " 'HKQuantityTypeIdentifierDietaryProtein',\n",
       " 'HKQuantityTypeIdentifierDietarySodium',\n",
       " 'HKQuantityTypeIdentifierDietarySugar',\n",
       " 'HKQuantityTypeIdentifierDietaryVitaminC']"
      ]
     },
     "execution_count": 136,
     "metadata": {},
     "output_type": "execute_result"
    }
   ],
   "source": [
    "dietary_types"
   ]
  },
  {
   "cell_type": "code",
   "execution_count": 153,
   "id": "f470fe28-9c0e-452b-8591-bfb2b93b5b1d",
   "metadata": {},
   "outputs": [],
   "source": [
    "for dietary_type in dietary_types:\n",
    "# dietary_type = 'HKQuantityTypeIdentifierDietaryCalcium'\n",
    "    \n",
    "    records = []\n",
    "    for element in health_root.iter('Record'):\n",
    "        element_type = element.get('type')\n",
    "        if element_type == dietary_type:\n",
    "            element_dict = element.attrib.copy()\n",
    "            element_dict.update({element[0].get('key'):element[0].get('value')})\n",
    "            records.append(element_dict)\n",
    "\n",
    "    # Get the dictionary keys\n",
    "    records_keys = list(records[0].keys())\n",
    "    \n",
    "    # Reshape the dictionary\n",
    "    records_dict = {key:None for key in records_keys}\n",
    "    for key in records_dict.keys():\n",
    "        records_dict[key] = [record[key] for record in records]\n",
    "    \n",
    "    dietary_type_clean = dietary_type.replace('HKQuantityTypeIdentifier', '')\n",
    "    outfile = 'AppleHealth_{}.csv'.format(dietary_type_clean)\n",
    "    \n",
    "    pd.DataFrame(records_dict).to_csv(outfile, index = False)"
   ]
  },
  {
   "cell_type": "markdown",
   "id": "5a502554-0b2e-4c8d-85ce-d304d7634478",
   "metadata": {},
   "source": [
    "That should do it. Hopefully anyway."
   ]
  },
  {
   "cell_type": "code",
   "execution_count": 154,
   "id": "c512e057-ec72-49b2-b6ea-c7b03f525387",
   "metadata": {},
   "outputs": [
    {
     "data": {
      "text/plain": [
       "['HKCategoryTypeIdentifierMindfulSession',\n",
       " 'HKCategoryTypeIdentifierSleepAnalysis',\n",
       " 'HKCategoryTypeIdentifierToothbrushingEvent',\n",
       " 'HKDataTypeSleepDurationGoal',\n",
       " 'HKQuantityTypeIdentifierActiveEnergyBurned',\n",
       " 'HKQuantityTypeIdentifierAppleWalkingSteadiness',\n",
       " 'HKQuantityTypeIdentifierBasalEnergyBurned',\n",
       " 'HKQuantityTypeIdentifierBodyMass',\n",
       " 'HKQuantityTypeIdentifierDietaryCalcium',\n",
       " 'HKQuantityTypeIdentifierDietaryCarbohydrates',\n",
       " 'HKQuantityTypeIdentifierDietaryCholesterol',\n",
       " 'HKQuantityTypeIdentifierDietaryEnergyConsumed',\n",
       " 'HKQuantityTypeIdentifierDietaryFatMonounsaturated',\n",
       " 'HKQuantityTypeIdentifierDietaryFatPolyunsaturated',\n",
       " 'HKQuantityTypeIdentifierDietaryFatSaturated',\n",
       " 'HKQuantityTypeIdentifierDietaryFatTotal',\n",
       " 'HKQuantityTypeIdentifierDietaryFiber',\n",
       " 'HKQuantityTypeIdentifierDietaryIron',\n",
       " 'HKQuantityTypeIdentifierDietaryPotassium',\n",
       " 'HKQuantityTypeIdentifierDietaryProtein',\n",
       " 'HKQuantityTypeIdentifierDietarySodium',\n",
       " 'HKQuantityTypeIdentifierDietarySugar',\n",
       " 'HKQuantityTypeIdentifierDietaryVitaminC',\n",
       " 'HKQuantityTypeIdentifierDistanceWalkingRunning',\n",
       " 'HKQuantityTypeIdentifierFlightsClimbed',\n",
       " 'HKQuantityTypeIdentifierHeadphoneAudioExposure',\n",
       " 'HKQuantityTypeIdentifierHeight',\n",
       " 'HKQuantityTypeIdentifierStepCount',\n",
       " 'HKQuantityTypeIdentifierWalkingAsymmetryPercentage',\n",
       " 'HKQuantityTypeIdentifierWalkingDoubleSupportPercentage',\n",
       " 'HKQuantityTypeIdentifierWalkingSpeed',\n",
       " 'HKQuantityTypeIdentifierWalkingStepLength']"
      ]
     },
     "execution_count": 154,
     "metadata": {},
     "output_type": "execute_result"
    }
   ],
   "source": [
    "sorted(record_types_unique)"
   ]
  },
  {
   "cell_type": "code",
   "execution_count": 157,
   "id": "d9421f3a-1933-4ead-b285-935da24eb240",
   "metadata": {},
   "outputs": [
    {
     "data": {
      "text/plain": [
       "2785"
      ]
     },
     "execution_count": 157,
     "metadata": {},
     "output_type": "execute_result"
    }
   ],
   "source": [
    "sleep_indices = []\n",
    "for i in range(len(health_root)):\n",
    "    element = health_root[i]\n",
    "    if element.tag == 'Record':\n",
    "        element_type = element.get('type')\n",
    "        if element_type == 'HKCategoryTypeIdentifierSleepAnalysis':\n",
    "            sleep_indices.append(i)\n",
    "\n",
    "len(sleep_indices)"
   ]
  },
  {
   "cell_type": "code",
   "execution_count": 162,
   "id": "1e9bff11-ba26-4bcf-a7ae-5ee3d2b57f8c",
   "metadata": {},
   "outputs": [
    {
     "data": {
      "text/plain": [
       "{'type': 'HKCategoryTypeIdentifierSleepAnalysis',\n",
       " 'sourceName': 'Antoine’s iPhone',\n",
       " 'sourceVersion': '17.5.1',\n",
       " 'creationDate': '2024-08-15 08:00:02 -0400',\n",
       " 'startDate': '2024-08-14 23:00:00 -0400',\n",
       " 'endDate': '2024-08-15 08:00:02 -0400',\n",
       " 'value': 'HKCategoryValueSleepAnalysisInBed'}"
      ]
     },
     "execution_count": 162,
     "metadata": {},
     "output_type": "execute_result"
    }
   ],
   "source": [
    "sleep_element = health_root[sleep_indices[len(sleep_indices)-1]]\n",
    "sleep_element.attrib"
   ]
  },
  {
   "cell_type": "code",
   "execution_count": 163,
   "id": "aeaa9053-3493-4d02-bfad-fb2e23e8b08e",
   "metadata": {},
   "outputs": [
    {
     "data": {
      "text/plain": [
       "1"
      ]
     },
     "execution_count": 163,
     "metadata": {},
     "output_type": "execute_result"
    }
   ],
   "source": [
    "len(sleep_element)"
   ]
  },
  {
   "cell_type": "code",
   "execution_count": 165,
   "id": "443f3957-b03a-4c3a-8d21-abca75257d41",
   "metadata": {},
   "outputs": [
    {
     "name": "stdout",
     "output_type": "stream",
     "text": [
      "MetadataEntry\n"
     ]
    }
   ],
   "source": [
    "for element in sleep_element:\n",
    "    print(element.tag)"
   ]
  },
  {
   "cell_type": "code",
   "execution_count": 166,
   "id": "6aa21c3b-a0e6-4dc0-87d0-67ba7b0904da",
   "metadata": {},
   "outputs": [
    {
     "name": "stdout",
     "output_type": "stream",
     "text": [
      "{'key': 'HKTimeZone', 'value': 'America/Toronto'}\n"
     ]
    }
   ],
   "source": [
    "for element in sleep_element:\n",
    "    print(element.attrib)"
   ]
  },
  {
   "cell_type": "markdown",
   "id": "690e356f-0961-4db2-a33c-5c2b1844bf4b",
   "metadata": {},
   "source": [
    "# Workout elements"
   ]
  },
  {
   "cell_type": "code",
   "execution_count": null,
   "id": "240e7657-e73b-4fa8-9568-201c3d9d6bb4",
   "metadata": {},
   "outputs": [],
   "source": [
    "element_test = health_root.find('Workout')\n",
    "element_test.attrib"
   ]
  },
  {
   "cell_type": "code",
   "execution_count": 18,
   "id": "cfa21bbe-0b22-4859-9c95-48475b8ab01b",
   "metadata": {},
   "outputs": [
    {
     "data": {
      "text/plain": [
       "'6.833333333333333'"
      ]
     },
     "execution_count": 18,
     "metadata": {},
     "output_type": "execute_result"
    }
   ],
   "source": [
    "element_test.get('duration')"
   ]
  }
 ],
 "metadata": {
  "kernelspec": {
   "display_name": "Python 3 (ipykernel)",
   "language": "python",
   "name": "python3"
  },
  "language_info": {
   "codemirror_mode": {
    "name": "ipython",
    "version": 3
   },
   "file_extension": ".py",
   "mimetype": "text/x-python",
   "name": "python",
   "nbconvert_exporter": "python",
   "pygments_lexer": "ipython3",
   "version": "3.12.5"
  }
 },
 "nbformat": 4,
 "nbformat_minor": 5
}
