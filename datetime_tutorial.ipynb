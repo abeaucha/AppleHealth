{
 "cells": [
  {
   "cell_type": "markdown",
   "id": "c8ec0d72-c660-4378-a4e9-aaa81964002d",
   "metadata": {},
   "source": [
    "# Working with dates and times in Python\n",
    "\n",
    "Python has a number of packages that provide functionality for working with dates and times. The fundamental package is `datetime`, which is part of base Python. NumPy and Pandas also provide objects for dates and times. "
   ]
  },
  {
   "cell_type": "markdown",
   "id": "bf9594fa-a2a6-4813-a0b2-6b30a52c2a56",
   "metadata": {
    "jp-MarkdownHeadingCollapsed": true
   },
   "source": [
    "## Package: datetime"
   ]
  },
  {
   "cell_type": "code",
   "execution_count": 4,
   "id": "493c7f08-41fd-48a8-b453-ba0927a4a94d",
   "metadata": {},
   "outputs": [],
   "source": [
    "import datetime"
   ]
  },
  {
   "cell_type": "markdown",
   "id": "0924d453-3c4b-4aef-b85e-eedc2471b911",
   "metadata": {},
   "source": [
    "The basic date and time package is datetime. It contains different **Objects**. These are **timedelta**, **date**, **datetime**, **time**, **tzinfo**, and **timezone**. Most of the functionality in this package is wrapped up in these objects. \n",
    "\n",
    "`date` objects contain information about year, month, and day, but no time information."
   ]
  },
  {
   "cell_type": "code",
   "execution_count": 5,
   "id": "1c49769f-81d8-491f-abcc-86aecc1c3937",
   "metadata": {},
   "outputs": [
    {
     "name": "stdout",
     "output_type": "stream",
     "text": [
      "<class 'datetime.date'>\n",
      "2024-11-17\n",
      "2024\n",
      "11\n",
      "17\n",
      "6\n"
     ]
    }
   ],
   "source": [
    "# Get the date object for today\n",
    "today = datetime.date.today()\n",
    "\n",
    "# This is a class datetime.date object\n",
    "print(type(today))\n",
    "\n",
    "# The date contains year, month, day\n",
    "print(today)\n",
    "\n",
    "# The individual components are stored as attributes\n",
    "print(today.year)\n",
    "print(today.month)\n",
    "print(today.day)\n",
    "\n",
    "# The weekday (start at 0 for Monday) can be extracted \n",
    "# using the weekday() method\n",
    "print(today.weekday())"
   ]
  },
  {
   "cell_type": "markdown",
   "id": "064e513e-77cc-433c-938a-b8b7ba591beb",
   "metadata": {},
   "source": [
    "`time` objects contain information about hours, minutes, seconds, and microseconds, but no information about dates. \n",
    "\n",
    "`datetime` objects contain information from both the `date` and `time` objects. "
   ]
  },
  {
   "cell_type": "code",
   "execution_count": 6,
   "id": "2d692761-c1c1-417c-98c0-7cdd834ac2de",
   "metadata": {},
   "outputs": [
    {
     "name": "stdout",
     "output_type": "stream",
     "text": [
      "<class 'datetime.datetime'>\n",
      "2024-11-17 13:31:55.885910\n",
      "2024\n",
      "55\n",
      "885910\n",
      "6\n"
     ]
    }
   ],
   "source": [
    "# Today as a datetime object\n",
    "today = datetime.datetime.today()\n",
    "\n",
    "# This is a datetime object\n",
    "print(type(today))\n",
    "\n",
    "# The datetime contains date information, as well as time\n",
    "print(today)\n",
    "\n",
    "# Individual date components can be extracted\n",
    "print(today.year)\n",
    "\n",
    "# As well as time components\n",
    "print(today.second)\n",
    "print(today.microsecond)\n",
    "\n",
    "# The weekday method also exists\n",
    "print(today.weekday())"
   ]
  },
  {
   "cell_type": "markdown",
   "id": "3c53768c-7d18-4c44-8de2-bb7cf09d118f",
   "metadata": {},
   "source": [
    "Comparisons between `date`, `time`, and `datetime` objects lead to `timedelta` objects."
   ]
  },
  {
   "cell_type": "code",
   "execution_count": 7,
   "id": "cc10058e-3568-4475-9ed1-cb851467e969",
   "metadata": {},
   "outputs": [
    {
     "name": "stdout",
     "output_type": "stream",
     "text": [
      "<class 'datetime.timedelta'>\n",
      "0:00:00.000097\n"
     ]
    }
   ],
   "source": [
    "# Two moments\n",
    "moment_1 = datetime.datetime.today()\n",
    "moment_2 = datetime.datetime.today()\n",
    "\n",
    "# Subtracting datetime objects creates a timedelta object\n",
    "# Note that addition doesn't work on datetime objects.\n",
    "moment_delta = moment_2 - moment_1\n",
    "\n",
    "print(type(moment_delta))\n",
    "print(moment_delta)"
   ]
  },
  {
   "cell_type": "markdown",
   "id": "1e532b5c-b46d-459f-9a8c-9da81a85577b",
   "metadata": {},
   "source": [
    "We can create custom time deltas. Note that the largest unit we can use in this case is weeks, since months and years are ambiguous in terms of time elapsed. "
   ]
  },
  {
   "cell_type": "code",
   "execution_count": 8,
   "id": "acb19e40-0a01-49a0-9e4e-bcc8298aed20",
   "metadata": {},
   "outputs": [
    {
     "name": "stdout",
     "output_type": "stream",
     "text": [
      "Type of delta: <class 'datetime.timedelta'>\n",
      "Value of delta: 2 days, 0:00:00\n",
      "Value of today: 2024-11-17 13:33:18.278017\n",
      "Value of today - delta: 2024-11-15 13:33:18.278017\n",
      "Value of today + delta: 2024-11-19 13:33:18.278017\n",
      "Type of today - delta: <class 'datetime.datetime'>\n",
      "2 days, 4:00:00\n",
      "2024-11-19 17:33:18.278017\n"
     ]
    }
   ],
   "source": [
    "# Create a timedelta of 2 days. \n",
    "delta = datetime.timedelta(days = 2)\n",
    "print(\"Type of delta: {}\".format(type(delta)))\n",
    "print(\"Value of delta: {}\".format(delta))\n",
    "\n",
    "# We can then add or subtract timedeltas from datetime objects.\n",
    "today = datetime.datetime.today()\n",
    "print(\"Value of today: {}\".format(today))\n",
    "print(\"Value of today - delta: {}\".format(today - delta))\n",
    "print(\"Value of today + delta: {}\".format(today + delta))\n",
    "# Notice that the time information is the same, since we haven't specified \n",
    "# a time interval in our timedelta.\n",
    "\n",
    "# A timedelta applied to a datetime returns a datetime\n",
    "print(\"Type of today - delta: {}\".format(type(today - delta)))\n",
    "\n",
    "# Timedeltas can include changes to multiple units\n",
    "delta = datetime.timedelta(days = 2, hours = 4)\n",
    "print(delta)\n",
    "print(today + delta)"
   ]
  },
  {
   "cell_type": "markdown",
   "id": "e03915a9-0310-4873-b521-cf122ee5910d",
   "metadata": {},
   "source": [
    "Time deltas also work with date objects. "
   ]
  },
  {
   "cell_type": "code",
   "execution_count": 9,
   "id": "dd0b23d8-0c25-47d2-96d8-56ec3b5671b3",
   "metadata": {},
   "outputs": [
    {
     "name": "stdout",
     "output_type": "stream",
     "text": [
      "2024-11-17\n",
      "2024-11-15\n",
      "<class 'datetime.date'>\n",
      "2024-11-15\n",
      "<class 'datetime.date'>\n",
      "2024-11-17\n"
     ]
    }
   ],
   "source": [
    "# Create a date object for today. No time information.\n",
    "today = datetime.date.today()\n",
    "print(today)\n",
    "\n",
    "# Timedelta of 2 days\n",
    "delta = datetime.timedelta(days = 2)\n",
    "\n",
    "# This works fine. Returns a date\n",
    "print(today - delta)\n",
    "print(type(today - delta))\n",
    "\n",
    "# What if we include time?\n",
    "delta = datetime.timedelta(days = 2, hours = 4)\n",
    "print(today - delta)\n",
    "print(type(today - delta))\n",
    "# So the time information is thrown out and it acts only on the date information\n",
    "\n",
    "delta = datetime.timedelta(hours = 4)\n",
    "print(today - delta)"
   ]
  },
  {
   "cell_type": "markdown",
   "id": "d3d9c56c-399c-4f2e-a51d-9665406c3ba3",
   "metadata": {},
   "source": [
    "Datetime objects can be converted into dates, and vice-versa."
   ]
  },
  {
   "cell_type": "code",
   "execution_count": 10,
   "id": "e75fea38-e9d3-438a-ab75-5d8384e8cddc",
   "metadata": {},
   "outputs": [
    {
     "name": "stdout",
     "output_type": "stream",
     "text": [
      "2024-11-17\n",
      "13:34:00.673407\n",
      "<class 'datetime.date'>\n",
      "<class 'datetime.time'>\n"
     ]
    }
   ],
   "source": [
    "# Create a datetime object for now\n",
    "today = datetime.datetime.today()\n",
    "\n",
    "# The date and time components can be extracted separately\n",
    "print(today.date())\n",
    "print(today.time())\n",
    "\n",
    "# And they are converted to the appropriate objects\n",
    "print(type(today.date()))\n",
    "print(type(today.time()))"
   ]
  },
  {
   "cell_type": "markdown",
   "id": "8c2c0040-e9d0-4270-9167-8f65ed087229",
   "metadata": {},
   "source": [
    "Because `datetime` is part of base Python, the objects can't be vectorized, but they can be used in list comprehensions in the usual way."
   ]
  },
  {
   "cell_type": "code",
   "execution_count": 11,
   "id": "66af8fa6-d2bf-4cec-af3b-80a61ff19ed6",
   "metadata": {},
   "outputs": [
    {
     "name": "stdout",
     "output_type": "stream",
     "text": [
      "[datetime.timedelta(0), datetime.timedelta(days=1), datetime.timedelta(days=2), datetime.timedelta(days=3), datetime.timedelta(days=4)]\n",
      "[datetime.date(2024, 11, 17), datetime.date(2024, 11, 16), datetime.date(2024, 11, 15), datetime.date(2024, 11, 14), datetime.date(2024, 11, 13)]\n"
     ]
    }
   ],
   "source": [
    "# Create a range of 30 days\n",
    "day_range = range(30)\n",
    "\n",
    "# Create a list of timedeltas for 30 days\n",
    "deltas = [datetime.timedelta(days = day) for day in day_range]\n",
    "print(deltas[:5])\n",
    "\n",
    "# Get today's date\n",
    "today = datetime.date.today()\n",
    "\n",
    "# Get a list of the past 30 days\n",
    "list_of_days = [today - td for td in deltas]\n",
    "print(list_of_days[:5])"
   ]
  },
  {
   "cell_type": "markdown",
   "id": "30ddefb6-01b0-435d-922f-0ba5055ed7d2",
   "metadata": {},
   "source": [
    "The list of dates can be converted to a NumPy array:"
   ]
  },
  {
   "cell_type": "code",
   "execution_count": 16,
   "id": "015989b6-61b0-43bd-9de9-b454d0d47c03",
   "metadata": {},
   "outputs": [
    {
     "data": {
      "text/plain": [
       "array([datetime.date(2024, 11, 17), datetime.date(2024, 11, 16),\n",
       "       datetime.date(2024, 11, 15), datetime.date(2024, 11, 14),\n",
       "       datetime.date(2024, 11, 13)], dtype=object)"
      ]
     },
     "execution_count": 16,
     "metadata": {},
     "output_type": "execute_result"
    }
   ],
   "source": [
    "import numpy as np\n",
    "np.array(list_of_days[:5])"
   ]
  },
  {
   "cell_type": "markdown",
   "id": "fdf653e3-4ef8-4641-ad5e-7728755812dc",
   "metadata": {},
   "source": [
    "Notice how this is a NumPy array of type \"object\", since the elements are `datetime.date` objects. \n",
    "\n",
    "Still we can apply a timedelta to the array and it maps it across the elements as expected:"
   ]
  },
  {
   "cell_type": "code",
   "execution_count": 18,
   "id": "e8745f5f-09e8-431d-9b83-669d1abbee78",
   "metadata": {},
   "outputs": [
    {
     "data": {
      "text/plain": [
       "array([datetime.date(2024, 11, 19), datetime.date(2024, 11, 18),\n",
       "       datetime.date(2024, 11, 17), datetime.date(2024, 11, 16),\n",
       "       datetime.date(2024, 11, 15)], dtype=object)"
      ]
     },
     "execution_count": 18,
     "metadata": {},
     "output_type": "execute_result"
    }
   ],
   "source": [
    "np.array(list_of_days[:5]) + datetime.timedelta(days = 2)"
   ]
  },
  {
   "cell_type": "markdown",
   "id": "6051ca05-9419-4fe2-bbf4-11bff24255d8",
   "metadata": {},
   "source": [
    "I doubt this is the right way to work with dates in NumPy though. "
   ]
  },
  {
   "cell_type": "markdown",
   "id": "63a0859e-0a2d-4967-a414-a1de808150bc",
   "metadata": {},
   "source": [
    "## Package: NumPy\n",
    "\n",
    "NumPy has its own datetime data type: https://numpy.org/doc/2.1/reference/arrays.datetime.html"
   ]
  },
  {
   "cell_type": "code",
   "execution_count": 19,
   "id": "7c02d87d-737a-4fc0-9a6f-99e3db4b9469",
   "metadata": {},
   "outputs": [],
   "source": [
    "import numpy as np"
   ]
  },
  {
   "cell_type": "markdown",
   "id": "d9490698-c288-43e1-83a4-062248a32cb7",
   "metadata": {},
   "source": [
    "## Package: Pandas"
   ]
  },
  {
   "cell_type": "code",
   "execution_count": 20,
   "id": "19086131-ef94-442c-ac96-ebced93efad1",
   "metadata": {},
   "outputs": [],
   "source": [
    "import pandas as pd"
   ]
  }
 ],
 "metadata": {
  "kernelspec": {
   "display_name": "Python 3 (ipykernel)",
   "language": "python",
   "name": "python3"
  },
  "language_info": {
   "codemirror_mode": {
    "name": "ipython",
    "version": 3
   },
   "file_extension": ".py",
   "mimetype": "text/x-python",
   "name": "python",
   "nbconvert_exporter": "python",
   "pygments_lexer": "ipython3",
   "version": "3.12.5"
  }
 },
 "nbformat": 4,
 "nbformat_minor": 5
}
