{
 "cells": [
  {
   "cell_type": "markdown",
   "id": "6c187b2c-f152-46ce-a482-a07f772d02ed",
   "metadata": {},
   "source": [
    "# Packages"
   ]
  },
  {
   "cell_type": "code",
   "execution_count": 65,
   "id": "cc3eac7d-b8db-4146-86e0-02d6455a107b",
   "metadata": {},
   "outputs": [],
   "source": [
    "import datetime\n",
    "import math\n",
    "import os\n",
    "import numpy as np\n",
    "import pandas as pd\n",
    "import seaborn as sns\n",
    "import matplotlib.pyplot as plt\n",
    "import matplotlib.dates as mdates"
   ]
  },
  {
   "cell_type": "markdown",
   "id": "d9d0f291-eb8d-4002-8083-a11aa95f4929",
   "metadata": {},
   "source": [
    "What is the information that I want in this notebook?\n",
    "- Full historical weight trends\n",
    "- Some sort of average trend (e.g. weekly average) in recent months\n",
    "- Weekly weight deltas\n",
    "- A table of recent weights"
   ]
  },
  {
   "cell_type": "markdown",
   "id": "afeceeec-8f37-4003-9f25-34b0b15a106d",
   "metadata": {},
   "source": [
    "# Working with dates and times"
   ]
  },
  {
   "cell_type": "markdown",
   "id": "e29d5f0e-fe6a-4026-8ffe-71a918ad1a1b",
   "metadata": {},
   "source": [
    "I need to get familiar with all of these python date and time objects. There's this datetime package, which is base python. But then there's pandas date time? And I think numpy date time too? And they all have different functions.\n",
    "\n",
    "The basic date and time package in python is datetime. It contains different **Objects**. These are **timedelta**, **date**, **datetime**, **time**, **tzinfo**, and **timezone**. Most of the functionality in this package is wrapped up in these objects. "
   ]
  },
  {
   "cell_type": "code",
   "execution_count": 2,
   "id": "ecb95b69-fcca-4e17-ac0f-041033c563f5",
   "metadata": {},
   "outputs": [
    {
     "name": "stdout",
     "output_type": "stream",
     "text": [
      "<class 'datetime.date'>\n",
      "2024-11-07\n",
      "2024\n",
      "11\n",
      "7\n",
      "3\n"
     ]
    }
   ],
   "source": [
    "import datetime\n",
    "\n",
    "# `date` objects contain information about year, month, and day, but no time. \n",
    "\n",
    "# Get the date object for today\n",
    "today = datetime.date.today()\n",
    "\n",
    "# This is a class datetime.date object\n",
    "print(type(today))\n",
    "\n",
    "# The date contains year, month, day\n",
    "print(today)\n",
    "\n",
    "# The individual components are stored as attributes\n",
    "print(today.year)\n",
    "print(today.month)\n",
    "print(today.day)\n",
    "\n",
    "# The weekday (start at 0 for Monday) can be extracted \n",
    "# using the weekday() method\n",
    "print(today.weekday())"
   ]
  },
  {
   "cell_type": "code",
   "execution_count": 3,
   "id": "f78da4a2-087f-4eae-8794-58709a7d2301",
   "metadata": {},
   "outputs": [],
   "source": [
    "# `time` objects contain information about hours, minutes, second, and microseconds, but no date information\n",
    "# Not sure what the utility of this is yet. "
   ]
  },
  {
   "cell_type": "code",
   "execution_count": 4,
   "id": "d96b8887-fabf-4304-9d2e-57d25dba36f6",
   "metadata": {},
   "outputs": [
    {
     "name": "stdout",
     "output_type": "stream",
     "text": [
      "<class 'datetime.datetime'>\n",
      "2024-11-07 11:58:50.981124\n",
      "2024\n",
      "50\n",
      "981124\n",
      "3\n"
     ]
    }
   ],
   "source": [
    "# 'datetime' objects contain the information from both the date and time objects\n",
    "\n",
    "# Today as a datetime object\n",
    "today = datetime.datetime.today()\n",
    "\n",
    "# This is a datetime object\n",
    "print(type(today))\n",
    "\n",
    "# The datetime contains date information, as well as time\n",
    "print(today)\n",
    "\n",
    "# Individual date components can be extracted\n",
    "print(today.year)\n",
    "\n",
    "# As well as time components\n",
    "print(today.second)\n",
    "print(today.microsecond)\n",
    "\n",
    "# The weekday method also exists\n",
    "print(today.weekday())"
   ]
  },
  {
   "cell_type": "code",
   "execution_count": 5,
   "id": "32e69b7e-0edb-4d95-9e98-d27bf0201407",
   "metadata": {},
   "outputs": [
    {
     "name": "stdout",
     "output_type": "stream",
     "text": [
      "<class 'datetime.timedelta'>\n",
      "0:00:00.000081\n"
     ]
    }
   ],
   "source": [
    "# Comparions between dates lead to timedeltas\n",
    "\n",
    "# Two moments\n",
    "moment_1 = datetime.datetime.today()\n",
    "moment_2 = datetime.datetime.today()\n",
    "\n",
    "# Subtracting datetime objects creates a timedelta object\n",
    "# Note that addition doesn't work on datetime objects.\n",
    "moment_delta = moment_2 - moment_1\n",
    "\n",
    "print(type(moment_delta))\n",
    "print(moment_delta)"
   ]
  },
  {
   "cell_type": "code",
   "execution_count": 6,
   "id": "e80a574d-32df-440e-9236-c80a0ca62120",
   "metadata": {},
   "outputs": [
    {
     "name": "stdout",
     "output_type": "stream",
     "text": [
      "Type of delta: <class 'datetime.timedelta'>\n",
      "Value of delta: 2 days, 0:00:00\n",
      "Value of today: 2024-11-07 11:58:53.501522\n",
      "Value of today - delta: 2024-11-05 11:58:53.501522\n",
      "Value of today + delta: 2024-11-09 11:58:53.501522\n",
      "Type of today - delta: <class 'datetime.datetime'>\n",
      "2 days, 4:00:00\n",
      "2024-11-09 15:58:53.501522\n"
     ]
    }
   ],
   "source": [
    "# We can create our own time deltas\n",
    "# Note that the largest unit we can use in this case is weeks, \n",
    "# since months and years are ambiguous in terms of time intervals\n",
    "# Create a timedelta of 2 days. \n",
    "delta = datetime.timedelta(days = 2)\n",
    "print(\"Type of delta: {}\".format(type(delta)))\n",
    "print(\"Value of delta: {}\".format(delta))\n",
    "\n",
    "# We can then add or subtract timedeltas from datetime objects.\n",
    "today = datetime.datetime.today()\n",
    "print(\"Value of today: {}\".format(today))\n",
    "print(\"Value of today - delta: {}\".format(today - delta))\n",
    "print(\"Value of today + delta: {}\".format(today + delta))\n",
    "# Notice that the time information is the same, since we haven't specified \n",
    "# a time interval in our timedelta.\n",
    "\n",
    "# A timedelta applied to a datetime returns a datetime\n",
    "print(\"Type of today - delta: {}\".format(type(today - delta)))\n",
    "\n",
    "# Timedeltas can include changes to multiple units\n",
    "delta = datetime.timedelta(days = 2, hours = 4)\n",
    "print(delta)\n",
    "print(today + delta)"
   ]
  },
  {
   "cell_type": "markdown",
   "id": "f34f2692-11c6-4ecf-a29d-4fa21a3a86b5",
   "metadata": {},
   "source": [
    "How do timedeltas work with date objects?"
   ]
  },
  {
   "cell_type": "code",
   "execution_count": 7,
   "id": "a07041c5-498f-490f-abe8-4a82f6edd423",
   "metadata": {},
   "outputs": [
    {
     "name": "stdout",
     "output_type": "stream",
     "text": [
      "2024-11-07\n",
      "2024-11-05\n",
      "<class 'datetime.date'>\n",
      "2024-11-05\n",
      "<class 'datetime.date'>\n",
      "2024-11-07\n"
     ]
    }
   ],
   "source": [
    "# Create a date object for today. No time information.\n",
    "today = datetime.date.today()\n",
    "print(today)\n",
    "\n",
    "# Timedelta of 2 days\n",
    "delta = datetime.timedelta(days = 2)\n",
    "\n",
    "# This works fine. Returns a date\n",
    "print(today - delta)\n",
    "print(type(today - delta))\n",
    "\n",
    "# What if we include time?\n",
    "delta = datetime.timedelta(days = 2, hours = 4)\n",
    "print(today - delta)\n",
    "print(type(today - delta))\n",
    "# So the time information is thrown out and it acts only on the date information\n",
    "\n",
    "delta = datetime.timedelta(hours = 4)\n",
    "print(today - delta)"
   ]
  },
  {
   "cell_type": "markdown",
   "id": "6a6b2d06-6ae8-46b7-a9d3-d323c993a2b9",
   "metadata": {},
   "source": [
    "Can we convert datetimes into dates, or vice-versa?"
   ]
  },
  {
   "cell_type": "code",
   "execution_count": 8,
   "id": "0bd6d7c2-619d-42d3-a78f-0269b970f10d",
   "metadata": {},
   "outputs": [
    {
     "name": "stdout",
     "output_type": "stream",
     "text": [
      "2024-11-07\n",
      "11:58:56.777872\n",
      "<class 'datetime.date'>\n",
      "<class 'datetime.time'>\n"
     ]
    }
   ],
   "source": [
    "# Create a datetime object for now\n",
    "today = datetime.datetime.today()\n",
    "\n",
    "# The date and time components can be extracted separately\n",
    "print(today.date())\n",
    "print(today.time())\n",
    "\n",
    "# And they are converted to the appropriate objects\n",
    "print(type(today.date()))\n",
    "print(type(today.time()))"
   ]
  },
  {
   "cell_type": "markdown",
   "id": "c87f01c0-881b-4712-9e6e-969da597ff08",
   "metadata": {},
   "source": [
    "Okay this makes sense, but I doubt this can be vectorized. Although I can probably use list comprehensions. "
   ]
  },
  {
   "cell_type": "code",
   "execution_count": null,
   "id": "1cfa72e4-2973-4c68-b6cc-30e05942388d",
   "metadata": {},
   "outputs": [],
   "source": [
    "day_range = range(30)\n",
    "\n",
    "deltas = [datetime.timedelta(days = day) for day in day_range]\n",
    "print(deltas[:5])\n",
    "\n",
    "today = datetime.date.today()\n",
    "\n",
    "list_of_days = [today - td for td in deltas]\n",
    "print(list_of_days[:5])"
   ]
  },
  {
   "cell_type": "markdown",
   "id": "1a607f2c-526b-4190-a6c4-7bb76a69a4cc",
   "metadata": {},
   "source": [
    "Okay that works as expected. In order to vectorize though I would have to use NumPy or Pandas. "
   ]
  },
  {
   "cell_type": "code",
   "execution_count": null,
   "id": "65dacf80-3155-40d7-a181-ec2a1602fd65",
   "metadata": {},
   "outputs": [],
   "source": [
    "# This seems to work. Not sure if it's the right way though.\n",
    "np.array(list_of_days) + datetime.timedelta(days = 2)"
   ]
  },
  {
   "cell_type": "code",
   "execution_count": null,
   "id": "dfe0331b-fdb0-4bdf-8705-b603847b65e4",
   "metadata": {},
   "outputs": [],
   "source": [
    "# Data directory\n",
    "data_dir = 'data'\n",
    "\n",
    "# Data file\n",
    "file = 'AppleHealth_BodyMass.csv'\n",
    "file = os.path.join(data_dir, file)\n",
    "if not os.path.exists(file):\n",
    "    raise ValueError\n",
    "\n",
    "# Import data\n",
    "df_weight = pd.read_csv(file)\n",
    "\n",
    "# Drop the first entry and select desired columns\n",
    "df_weight = df_weight.loc[1:,['sourceName','unit','startDate', 'value']]\n",
    "\n",
    "# Rename columns\n",
    "df_weight = df_weight.rename(columns = {'sourceName':'Source', \n",
    "                                        'unit':'Unit',\n",
    "                                        'startDate':'Date', \n",
    "                                        'value':'Weight'})\n",
    "\n",
    "df_weight.head()"
   ]
  },
  {
   "cell_type": "markdown",
   "id": "2b2b72f5-0966-4f6b-a593-bb0dab1136d0",
   "metadata": {},
   "source": [
    "Dates are imported as strings initally. I'm not sure if datetime has functionality to parse strings as dates. But Pandas seems to."
   ]
  },
  {
   "cell_type": "code",
   "execution_count": null,
   "id": "952c6851-66d7-43dd-ac66-b8568a4fffd8",
   "metadata": {},
   "outputs": [],
   "source": [
    "pd.to_datetime(df_weight['Date']).head()"
   ]
  },
  {
   "cell_type": "code",
   "execution_count": null,
   "id": "5e207bc5-c33f-4ddb-94fa-943e5b8f40b1",
   "metadata": {},
   "outputs": [],
   "source": [
    "datetime.date(pd.to_datetime(df_weight['Date']))"
   ]
  },
  {
   "cell_type": "markdown",
   "id": "bb9d10ba-5e6b-4b0e-8d97-54333308d0ff",
   "metadata": {},
   "source": [
    "This doesn't work because the datetime methods aren't vectorized. It's different, right? The datetime objects are classes, which works with lists etc., but not with pandas. What we need is a data type that is a date. And I guess there's some version of that built into pandas (and numpy)."
   ]
  },
  {
   "cell_type": "markdown",
   "id": "08cd48a0-fee6-422d-902e-9bf47a388b1e",
   "metadata": {},
   "source": [
    "# Analysis"
   ]
  },
  {
   "cell_type": "code",
   "execution_count": 9,
   "id": "ab661da6-42aa-4055-be19-f22c128f77a3",
   "metadata": {},
   "outputs": [
    {
     "data": {
      "text/html": [
       "<div>\n",
       "<style scoped>\n",
       "    .dataframe tbody tr th:only-of-type {\n",
       "        vertical-align: middle;\n",
       "    }\n",
       "\n",
       "    .dataframe tbody tr th {\n",
       "        vertical-align: top;\n",
       "    }\n",
       "\n",
       "    .dataframe thead th {\n",
       "        text-align: right;\n",
       "    }\n",
       "</style>\n",
       "<table border=\"1\" class=\"dataframe\">\n",
       "  <thead>\n",
       "    <tr style=\"text-align: right;\">\n",
       "      <th></th>\n",
       "      <th>Source</th>\n",
       "      <th>Unit</th>\n",
       "      <th>Date</th>\n",
       "      <th>Weight</th>\n",
       "    </tr>\n",
       "    <tr>\n",
       "      <th>Date</th>\n",
       "      <th></th>\n",
       "      <th></th>\n",
       "      <th></th>\n",
       "      <th></th>\n",
       "    </tr>\n",
       "  </thead>\n",
       "  <tbody>\n",
       "    <tr>\n",
       "      <th>2024-08-26</th>\n",
       "      <td>Hevy</td>\n",
       "      <td>lb</td>\n",
       "      <td>2024-08-26</td>\n",
       "      <td>142.6</td>\n",
       "    </tr>\n",
       "    <tr>\n",
       "      <th>2024-08-27</th>\n",
       "      <td>Hevy</td>\n",
       "      <td>lb</td>\n",
       "      <td>2024-08-27</td>\n",
       "      <td>142.8</td>\n",
       "    </tr>\n",
       "    <tr>\n",
       "      <th>2024-08-28</th>\n",
       "      <td>Hevy</td>\n",
       "      <td>lb</td>\n",
       "      <td>2024-08-28</td>\n",
       "      <td>141.2</td>\n",
       "    </tr>\n",
       "    <tr>\n",
       "      <th>2024-08-29</th>\n",
       "      <td>Hevy</td>\n",
       "      <td>lb</td>\n",
       "      <td>2024-08-29</td>\n",
       "      <td>141.0</td>\n",
       "    </tr>\n",
       "    <tr>\n",
       "      <th>2024-08-30</th>\n",
       "      <td>Hevy</td>\n",
       "      <td>lb</td>\n",
       "      <td>2024-08-30</td>\n",
       "      <td>140.2</td>\n",
       "    </tr>\n",
       "  </tbody>\n",
       "</table>\n",
       "</div>"
      ],
      "text/plain": [
       "           Source Unit       Date  Weight\n",
       "Date                                     \n",
       "2024-08-26   Hevy   lb 2024-08-26   142.6\n",
       "2024-08-27   Hevy   lb 2024-08-27   142.8\n",
       "2024-08-28   Hevy   lb 2024-08-28   141.2\n",
       "2024-08-29   Hevy   lb 2024-08-29   141.0\n",
       "2024-08-30   Hevy   lb 2024-08-30   140.2"
      ]
     },
     "execution_count": 9,
     "metadata": {},
     "output_type": "execute_result"
    }
   ],
   "source": [
    "# Data directory\n",
    "data_dir = 'data'\n",
    "\n",
    "# Data file\n",
    "file = 'AppleHealth_BodyMass.csv'\n",
    "file = os.path.join(data_dir, file)\n",
    "if not os.path.exists(file):\n",
    "    raise ValueError\n",
    "\n",
    "# Import data\n",
    "df_weight = pd.read_csv(file)\n",
    "\n",
    "# Drop the first entry and select desired columns\n",
    "df_weight = df_weight.loc[1:,['sourceName','unit','startDate', 'value']]\n",
    "\n",
    "# Rename columns\n",
    "df_weight = df_weight.rename(columns = {'sourceName':'Source', \n",
    "                                        'unit':'Unit',\n",
    "                                        'startDate':'Date', \n",
    "                                        'value':'Weight'})\n",
    "\n",
    "# Convert date to Pandas DateTime\n",
    "df_weight['Date'] = pd.to_datetime(df_weight['Date'])\n",
    "\n",
    "# Remove timezone information and floor dates to day\n",
    "df_weight['Date'] = df_weight['Date'].dt.tz_localize(None).dt.floor('D')\n",
    "\n",
    "# Set the date as index and sort\n",
    "df_weight = df_weight.set_index('Date', drop = False).sort_index()\n",
    "\n",
    "# Drop duplicate entries\n",
    "df_weight = df_weight.drop_duplicates()\n",
    "\n",
    "# MISSING SOME DATA IN HEVY in June 2024\n",
    "\n",
    "# Get records from Hevy\n",
    "df_weight_hevy = df_weight.loc[df_weight['Source'] == 'Hevy']\n",
    "min_date_hevy = min(df_weight_hevy.index)\n",
    "\n",
    "# Get records from MyFitnessPal\n",
    "df_weight_mfp = df_weight.truncate(after = min_date_hevy - pd.Timedelta(1, 'd'))\n",
    "\n",
    "# Combine Hevy and MyFitnessPal records\n",
    "df_weight = pd.concat([df_weight_mfp, df_weight_hevy])\n",
    "\n",
    "df_weight.tail()"
   ]
  },
  {
   "cell_type": "code",
   "execution_count": 164,
   "id": "aa3a8905-451b-417a-a98e-03c1e43eddfd",
   "metadata": {},
   "outputs": [
    {
     "data": {
      "image/png": "[encoded data removed]",
      "text/plain": [
       "<Figure size 1000x500 with 1 Axes>"
      ]
     },
     "metadata": {},
     "output_type": "display_data"
    }
   ],
   "source": [
    "# Set a default style to use\n",
    "plt.style.use('default')\n",
    "\n",
    "# Generate the figure and axes. \n",
    "# This is a single set of axes in a figure with width 10 and height 5\n",
    "fig, ax = plt.subplots(figsize = (10, 5))\n",
    "\n",
    "# Generate the line plot\n",
    "lines = ax.plot('Date', 'Weight', data = df_weight, lw = 0.80)\n",
    "\n",
    "# This puts the grid below the data\n",
    "ax.set_axisbelow(True)\n",
    "\n",
    "# x-axis ticks\n",
    "# x-axis tick locations\n",
    "ax.xaxis.set_major_locator(mdates.YearLocator())\n",
    "ax.xaxis.set_minor_locator(mdates.MonthLocator(interval = 3))\n",
    "\n",
    "# x-axis tick labels\n",
    "ax.xaxis.set_major_formatter(mdates.DateFormatter('%Y'))\n",
    "\n",
    "# y-axis ticks\n",
    "ax.set_yticks(np.arange(110, 160.1, 5))\n",
    "ax.set_yticks(np.arange(110, 160.1, 2.5), minor = True)\n",
    "ax.set_ylim(115, 160)\n",
    "\n",
    "# Plot grids\n",
    "ax.grid(visible = True, which = 'major', color = '0.7')\n",
    "ax.grid(visible = True, which = 'minor', axis = 'both', color = '0.90')\n",
    "\n",
    "# Axis labels\n",
    "ax.set_ylabel(\"Weight (lbs)\");"
   ]
  },
  {
   "cell_type": "markdown",
   "id": "8abffe7f-305d-46af-913d-09b275245646",
   "metadata": {},
   "source": [
    "How do I aggregate data?"
   ]
  },
  {
   "cell_type": "code",
   "execution_count": 67,
   "id": "8b21c030-70d1-4ade-bfb8-3da9a7230057",
   "metadata": {},
   "outputs": [
    {
     "data": {
      "text/html": [
       "<div>\n",
       "<style scoped>\n",
       "    .dataframe tbody tr th:only-of-type {\n",
       "        vertical-align: middle;\n",
       "    }\n",
       "\n",
       "    .dataframe tbody tr th {\n",
       "        vertical-align: top;\n",
       "    }\n",
       "\n",
       "    .dataframe thead th {\n",
       "        text-align: right;\n",
       "    }\n",
       "</style>\n",
       "<table border=\"1\" class=\"dataframe\">\n",
       "  <thead>\n",
       "    <tr style=\"text-align: right;\">\n",
       "      <th></th>\n",
       "      <th>Date</th>\n",
       "      <th>Weight</th>\n",
       "    </tr>\n",
       "  </thead>\n",
       "  <tbody>\n",
       "    <tr>\n",
       "      <th>0</th>\n",
       "      <td>2016-12-05</td>\n",
       "      <td>119.942857</td>\n",
       "    </tr>\n",
       "    <tr>\n",
       "      <th>1</th>\n",
       "      <td>2016-12-12</td>\n",
       "      <td>119.733333</td>\n",
       "    </tr>\n",
       "    <tr>\n",
       "      <th>2</th>\n",
       "      <td>2017-01-02</td>\n",
       "      <td>119.200000</td>\n",
       "    </tr>\n",
       "    <tr>\n",
       "      <th>3</th>\n",
       "      <td>2017-01-09</td>\n",
       "      <td>120.200000</td>\n",
       "    </tr>\n",
       "    <tr>\n",
       "      <th>4</th>\n",
       "      <td>2017-01-16</td>\n",
       "      <td>120.200000</td>\n",
       "    </tr>\n",
       "  </tbody>\n",
       "</table>\n",
       "</div>"
      ],
      "text/plain": [
       "        Date      Weight\n",
       "0 2016-12-05  119.942857\n",
       "1 2016-12-12  119.733333\n",
       "2 2017-01-02  119.200000\n",
       "3 2017-01-09  120.200000\n",
       "4 2017-01-16  120.200000"
      ]
     },
     "execution_count": 67,
     "metadata": {},
     "output_type": "execute_result"
    }
   ],
   "source": [
    "# Move index into column\n",
    "df_weight['Date'] = df_weight.index\n",
    "\n",
    "# Create a new column containing the starting day of the week\n",
    "# How does this work? \n",
    "# df_weight['Date'].dt.dayofweek extracts the day of the week from the date object. Starts at 0 for Monday.\n",
    "# Then pd.to_timedelta(unit = 'd') converts those values into TimeDeltas. So day of week 0 becomes a TimeDelta of 0.\n",
    "# If the unit is something else, it converts the values into TimeDeltas at that unit. So unit = 'm' would \n",
    "# convert it into TimeDeltas of minutes. But it's just taking the values in the column. So those where \n",
    "# the day of week returned 1 would be converted into a TimeDelta of 1 minute. We want the TimeDeltas \n",
    "# to count days, so we use unit = 'd'.\n",
    "# Then subtracting those TimeDeltas from the date values works to floor every date to the start of the\n",
    "# week.\n",
    "df_weight['WeekStart'] = df_weight['Date'] - pd.to_timedelta(df_weight['Date'].dt.dayofweek, unit = 'd')\n",
    "\n",
    "# Calculate the weekly average\n",
    "# The syntax here is different from R. \n",
    "# groupby specifies which column to group by\n",
    "# But then we select the column to aggregate by, and chain it with a method\n",
    "# The output is a Pandas Series, not a DataFrame\n",
    "weight_weekly = df_weight.groupby('WeekStart')['Weight'].mean()\n",
    "\n",
    "# Convert Series to DataFrame\n",
    "df_weight_weekly = pd.DataFrame({'Date':weight_weekly.index, 'Weight':weight_weekly.values})\n",
    "\n",
    "# Examine\n",
    "df_weight_weekly.head()"
   ]
  },
  {
   "cell_type": "code",
   "execution_count": 69,
   "id": "273ae015-3a0d-4048-8367-ca57c2fc379c",
   "metadata": {},
   "outputs": [],
   "source": [
    "# Today's date\n",
    "today = datetime.date.today()\n",
    "\n",
    "# Number of months past\n",
    "nmonths = 6\n",
    "\n",
    "# Get the date 6 months ago\n",
    "six_months_ago = today - datetime.timedelta(days = 30*nmonths)\n",
    "\n",
    "# Get entries after 6 months ago\n",
    "weight_weekly_recent = weight_weekly.truncate(before = six_months_ago)\n",
    "\n",
    "# Rebuild the weekly data frame\n",
    "df_weight_weekly = pd.DataFrame({'Date':weight_weekly_recent.index,\n",
    "                                 'Weight':weight_weekly_recent.values})"
   ]
  },
  {
   "cell_type": "code",
   "execution_count": 161,
   "id": "5149b63a-4b3c-4de5-82eb-5cc4bed52900",
   "metadata": {},
   "outputs": [
    {
     "data": {
      "image/png": "[encoded data removed]",
      "text/plain": [
       "<Figure size 1000x500 with 1 Axes>"
      ]
     },
     "metadata": {},
     "output_type": "display_data"
    }
   ],
   "source": [
    "# Get min and max weights over the period\n",
    "weight_min = min(df_weight_weekly['Weight'])\n",
    "weight_max = max(df_weight_weekly['Weight'])\n",
    "\n",
    "# Compute y-limits from min/max weights\n",
    "ylim_min = math.floor(weight_min/5) * 5 \n",
    "ylim_max = math.ceil(weight_max/5) * 5 \n",
    "\n",
    "# Generate the figure and axes. \n",
    "# This is a single set of axes in a figure with width 10 and height 5\n",
    "fig, ax = plt.subplots(figsize = (10, 5))\n",
    "\n",
    "# Generate the line plot\n",
    "lines = ax.plot('Date', 'Weight', data = df_weight_weekly, lw = 0.80)\n",
    "points = ax.scatter('Date', 'Weight', data = df_weight_weekly)\n",
    "\n",
    "# This puts the grid below the data\n",
    "ax.set_axisbelow(True)\n",
    "\n",
    "# x-axis ticks\n",
    "# x-axis tick locations\n",
    "ax.xaxis.set_major_locator(mdates.MonthLocator(interval = 1))\n",
    "ax.xaxis.set_minor_locator(mdates.DayLocator(interval = 7))\n",
    "\n",
    "# x-axis tick labels\n",
    "ax.xaxis.set_major_formatter(mdates.DateFormatter('%Y-%m-%d'))\n",
    "\n",
    "# Set y-ticks and limits\n",
    "ax.set_yticks(np.arange(110, 160.1, 2))\n",
    "ax.set_yticks(np.arange(110, 160.1, 1), minor = True)\n",
    "ax.set_ylim(ylim_min, ylim_max)\n",
    "\n",
    "# Plot grids\n",
    "ax.grid(visible = True, which = 'major', color = '0.7')\n",
    "ax.grid(visible = True, which = 'minor', axis = 'both', color = '0.90')\n",
    "\n",
    "ax.set_ylabel(\"Weight (lbs)\");"
   ]
  },
  {
   "cell_type": "markdown",
   "id": "53472d42-199a-44f1-8da1-229755f9dfc4",
   "metadata": {},
   "source": [
    "There's data missing here that I need to figure out. I think I filtered it out with the import when I selected the Hevy data. \n",
    "\n",
    "Next is how do I compute the weekly deltas?"
   ]
  },
  {
   "cell_type": "code",
   "execution_count": 73,
   "id": "76fadd7c-6584-477a-8597-1e204f35fd2c",
   "metadata": {},
   "outputs": [
    {
     "data": {
      "text/html": [
       "<div>\n",
       "<style scoped>\n",
       "    .dataframe tbody tr th:only-of-type {\n",
       "        vertical-align: middle;\n",
       "    }\n",
       "\n",
       "    .dataframe tbody tr th {\n",
       "        vertical-align: top;\n",
       "    }\n",
       "\n",
       "    .dataframe thead th {\n",
       "        text-align: right;\n",
       "    }\n",
       "</style>\n",
       "<table border=\"1\" class=\"dataframe\">\n",
       "  <thead>\n",
       "    <tr style=\"text-align: right;\">\n",
       "      <th></th>\n",
       "      <th>Date</th>\n",
       "      <th>Weight</th>\n",
       "    </tr>\n",
       "  </thead>\n",
       "  <tbody>\n",
       "    <tr>\n",
       "      <th>0</th>\n",
       "      <td>2024-05-13</td>\n",
       "      <td>137.500000</td>\n",
       "    </tr>\n",
       "    <tr>\n",
       "      <th>1</th>\n",
       "      <td>2024-05-20</td>\n",
       "      <td>138.400000</td>\n",
       "    </tr>\n",
       "    <tr>\n",
       "      <th>2</th>\n",
       "      <td>2024-07-15</td>\n",
       "      <td>142.533333</td>\n",
       "    </tr>\n",
       "    <tr>\n",
       "      <th>3</th>\n",
       "      <td>2024-07-22</td>\n",
       "      <td>142.883333</td>\n",
       "    </tr>\n",
       "    <tr>\n",
       "      <th>4</th>\n",
       "      <td>2024-07-29</td>\n",
       "      <td>141.700000</td>\n",
       "    </tr>\n",
       "    <tr>\n",
       "      <th>5</th>\n",
       "      <td>2024-08-05</td>\n",
       "      <td>141.900000</td>\n",
       "    </tr>\n",
       "    <tr>\n",
       "      <th>6</th>\n",
       "      <td>2024-08-12</td>\n",
       "      <td>142.650000</td>\n",
       "    </tr>\n",
       "    <tr>\n",
       "      <th>7</th>\n",
       "      <td>2024-08-19</td>\n",
       "      <td>142.000000</td>\n",
       "    </tr>\n",
       "    <tr>\n",
       "      <th>8</th>\n",
       "      <td>2024-08-26</td>\n",
       "      <td>141.560000</td>\n",
       "    </tr>\n",
       "  </tbody>\n",
       "</table>\n",
       "</div>"
      ],
      "text/plain": [
       "        Date      Weight\n",
       "0 2024-05-13  137.500000\n",
       "1 2024-05-20  138.400000\n",
       "2 2024-07-15  142.533333\n",
       "3 2024-07-22  142.883333\n",
       "4 2024-07-29  141.700000\n",
       "5 2024-08-05  141.900000\n",
       "6 2024-08-12  142.650000\n",
       "7 2024-08-19  142.000000\n",
       "8 2024-08-26  141.560000"
      ]
     },
     "execution_count": 73,
     "metadata": {},
     "output_type": "execute_result"
    }
   ],
   "source": [
    "df_weight_weekly"
   ]
  },
  {
   "cell_type": "code",
   "execution_count": 76,
   "id": "82b3b538-111a-49ab-b932-5e5710a65d46",
   "metadata": {},
   "outputs": [
    {
     "data": {
      "text/html": [
       "<div>\n",
       "<style scoped>\n",
       "    .dataframe tbody tr th:only-of-type {\n",
       "        vertical-align: middle;\n",
       "    }\n",
       "\n",
       "    .dataframe tbody tr th {\n",
       "        vertical-align: top;\n",
       "    }\n",
       "\n",
       "    .dataframe thead th {\n",
       "        text-align: right;\n",
       "    }\n",
       "</style>\n",
       "<table border=\"1\" class=\"dataframe\">\n",
       "  <thead>\n",
       "    <tr style=\"text-align: right;\">\n",
       "      <th></th>\n",
       "      <th>Date</th>\n",
       "      <th>Weight</th>\n",
       "    </tr>\n",
       "  </thead>\n",
       "  <tbody>\n",
       "    <tr>\n",
       "      <th>0</th>\n",
       "      <td>NaT</td>\n",
       "      <td>NaN</td>\n",
       "    </tr>\n",
       "    <tr>\n",
       "      <th>1</th>\n",
       "      <td>7 days</td>\n",
       "      <td>0.900000</td>\n",
       "    </tr>\n",
       "    <tr>\n",
       "      <th>2</th>\n",
       "      <td>56 days</td>\n",
       "      <td>4.133333</td>\n",
       "    </tr>\n",
       "    <tr>\n",
       "      <th>3</th>\n",
       "      <td>7 days</td>\n",
       "      <td>0.350000</td>\n",
       "    </tr>\n",
       "    <tr>\n",
       "      <th>4</th>\n",
       "      <td>7 days</td>\n",
       "      <td>-1.183333</td>\n",
       "    </tr>\n",
       "    <tr>\n",
       "      <th>5</th>\n",
       "      <td>7 days</td>\n",
       "      <td>0.200000</td>\n",
       "    </tr>\n",
       "    <tr>\n",
       "      <th>6</th>\n",
       "      <td>7 days</td>\n",
       "      <td>0.750000</td>\n",
       "    </tr>\n",
       "    <tr>\n",
       "      <th>7</th>\n",
       "      <td>7 days</td>\n",
       "      <td>-0.650000</td>\n",
       "    </tr>\n",
       "    <tr>\n",
       "      <th>8</th>\n",
       "      <td>7 days</td>\n",
       "      <td>-0.440000</td>\n",
       "    </tr>\n",
       "  </tbody>\n",
       "</table>\n",
       "</div>"
      ],
      "text/plain": [
       "     Date    Weight\n",
       "0     NaT       NaN\n",
       "1  7 days  0.900000\n",
       "2 56 days  4.133333\n",
       "3  7 days  0.350000\n",
       "4  7 days -1.183333\n",
       "5  7 days  0.200000\n",
       "6  7 days  0.750000\n",
       "7  7 days -0.650000\n",
       "8  7 days -0.440000"
      ]
     },
     "execution_count": 76,
     "metadata": {},
     "output_type": "execute_result"
    }
   ],
   "source": [
    "df_weight_weekly.diff()"
   ]
  },
  {
   "cell_type": "code",
   "execution_count": 113,
   "id": "710c4b3d-c912-4396-8ed5-725def70c233",
   "metadata": {},
   "outputs": [
    {
     "data": {
      "text/html": [
       "<div>\n",
       "<style scoped>\n",
       "    .dataframe tbody tr th:only-of-type {\n",
       "        vertical-align: middle;\n",
       "    }\n",
       "\n",
       "    .dataframe tbody tr th {\n",
       "        vertical-align: top;\n",
       "    }\n",
       "\n",
       "    .dataframe thead th {\n",
       "        text-align: right;\n",
       "    }\n",
       "</style>\n",
       "<table border=\"1\" class=\"dataframe\">\n",
       "  <thead>\n",
       "    <tr style=\"text-align: right;\">\n",
       "      <th></th>\n",
       "      <th>Date</th>\n",
       "      <th>Weight</th>\n",
       "      <th>Timelapse</th>\n",
       "      <th>Difference</th>\n",
       "    </tr>\n",
       "  </thead>\n",
       "  <tbody>\n",
       "    <tr>\n",
       "      <th>1</th>\n",
       "      <td>2024-05-20</td>\n",
       "      <td>138.400000</td>\n",
       "      <td>7 days</td>\n",
       "      <td>0.900000</td>\n",
       "    </tr>\n",
       "    <tr>\n",
       "      <th>2</th>\n",
       "      <td>2024-07-15</td>\n",
       "      <td>142.533333</td>\n",
       "      <td>56 days</td>\n",
       "      <td>4.133333</td>\n",
       "    </tr>\n",
       "    <tr>\n",
       "      <th>3</th>\n",
       "      <td>2024-07-22</td>\n",
       "      <td>142.883333</td>\n",
       "      <td>7 days</td>\n",
       "      <td>0.350000</td>\n",
       "    </tr>\n",
       "    <tr>\n",
       "      <th>4</th>\n",
       "      <td>2024-07-29</td>\n",
       "      <td>141.700000</td>\n",
       "      <td>7 days</td>\n",
       "      <td>-1.183333</td>\n",
       "    </tr>\n",
       "    <tr>\n",
       "      <th>5</th>\n",
       "      <td>2024-08-05</td>\n",
       "      <td>141.900000</td>\n",
       "      <td>7 days</td>\n",
       "      <td>0.200000</td>\n",
       "    </tr>\n",
       "    <tr>\n",
       "      <th>6</th>\n",
       "      <td>2024-08-12</td>\n",
       "      <td>142.650000</td>\n",
       "      <td>7 days</td>\n",
       "      <td>0.750000</td>\n",
       "    </tr>\n",
       "    <tr>\n",
       "      <th>7</th>\n",
       "      <td>2024-08-19</td>\n",
       "      <td>142.000000</td>\n",
       "      <td>7 days</td>\n",
       "      <td>-0.650000</td>\n",
       "    </tr>\n",
       "    <tr>\n",
       "      <th>8</th>\n",
       "      <td>2024-08-26</td>\n",
       "      <td>141.560000</td>\n",
       "      <td>7 days</td>\n",
       "      <td>-0.440000</td>\n",
       "    </tr>\n",
       "  </tbody>\n",
       "</table>\n",
       "</div>"
      ],
      "text/plain": [
       "        Date      Weight Timelapse  Difference\n",
       "1 2024-05-20  138.400000    7 days    0.900000\n",
       "2 2024-07-15  142.533333   56 days    4.133333\n",
       "3 2024-07-22  142.883333    7 days    0.350000\n",
       "4 2024-07-29  141.700000    7 days   -1.183333\n",
       "5 2024-08-05  141.900000    7 days    0.200000\n",
       "6 2024-08-12  142.650000    7 days    0.750000\n",
       "7 2024-08-19  142.000000    7 days   -0.650000\n",
       "8 2024-08-26  141.560000    7 days   -0.440000"
      ]
     },
     "execution_count": 113,
     "metadata": {},
     "output_type": "execute_result"
    }
   ],
   "source": [
    "# Compute weight differences successive rows\n",
    "df_weight_diff = df_weight_weekly.diff().rename(columns = {'Date':'Timelapse', 'Weight':'Difference'})\n",
    "\n",
    "# Concatenate weight difference data to weight averages\n",
    "df_weight_diff = pd.concat([df_weight_weekly, df_weight_diff], axis = 1)\n",
    "\n",
    "# Remove first entry (which is NA)\n",
    "df_weight_diff = df_weight_diff[1:]\n",
    "\n",
    "df_weight_diff"
   ]
  },
  {
   "cell_type": "code",
   "execution_count": 148,
   "id": "02367a45-f73c-48e8-a00e-2f63dcc0cae4",
   "metadata": {},
   "outputs": [],
   "source": [
    "# bar_colors = np.empty(len(df_weight_diff), dtype = \"<U10\")\n",
    "# posdiff = df_weight_diff['Difference'] >= 0\n",
    "# bar_colors[posdiff] = 'green'\n",
    "# bar_colors[~posdiff] = 'red'"
   ]
  },
  {
   "cell_type": "code",
   "execution_count": 163,
   "id": "06e7f950-07ab-4493-8cf7-471f4d63a91b",
   "metadata": {},
   "outputs": [
    {
     "data": {
      "image/png": "[encoded data removed]",
      "text/plain": [
       "<Figure size 1000x500 with 1 Axes>"
      ]
     },
     "metadata": {},
     "output_type": "display_data"
    }
   ],
   "source": [
    "fig, ax = plt.subplots(figsize = (10, 5))\n",
    "\n",
    "ax.bar('Date', 'Difference', \n",
    "       data = df_weight_diff,\n",
    "       # color = bar_colors,\n",
    "       align = 'center', \n",
    "       width = datetime.timedelta(days = 6))\n",
    "\n",
    "# Horizontal line at y = 0\n",
    "ax.axhline(y = 0, color = 'black')\n",
    "\n",
    "# This puts the grid below the data\n",
    "ax.set_axisbelow(True)\n",
    "\n",
    "# x-axis ticks\n",
    "# x-axis tick locations\n",
    "ax.xaxis.set_major_locator(mdates.MonthLocator(interval = 1))\n",
    "# ax.xaxis.set_minor_locator(mdates.DayLocator(interval = 7))\n",
    "\n",
    "# x-axis tick labels\n",
    "ax.xaxis.set_major_formatter(mdates.DateFormatter('%Y-%m-%d'))\n",
    "\n",
    "# ax.set_yticks(np.arange(-5, 6))\n",
    "# ax.set_yticks(np.arange(-5, 6, 0.5), minor = True)\n",
    "\n",
    "ax.grid(visible = True, which = 'major', color = '0.7')\n",
    "ax.grid(visible = True, which = 'minor', axis = 'both', color = '0.90')\n",
    "\n",
    "ax.set_ylabel('Weight (lbs)');"
   ]
  },
  {
   "cell_type": "code",
   "execution_count": 157,
   "id": "f6c8cf77-5990-4a3c-ad86-0f59165fdb59",
   "metadata": {},
   "outputs": [
    {
     "data": {
      "text/html": [
       "<div>\n",
       "<style scoped>\n",
       "    .dataframe tbody tr th:only-of-type {\n",
       "        vertical-align: middle;\n",
       "    }\n",
       "\n",
       "    .dataframe tbody tr th {\n",
       "        vertical-align: top;\n",
       "    }\n",
       "\n",
       "    .dataframe thead th {\n",
       "        text-align: right;\n",
       "    }\n",
       "</style>\n",
       "<table border=\"1\" class=\"dataframe\">\n",
       "  <thead>\n",
       "    <tr style=\"text-align: right;\">\n",
       "      <th></th>\n",
       "      <th>Date</th>\n",
       "      <th>Weight</th>\n",
       "      <th>Timelapse</th>\n",
       "      <th>Difference</th>\n",
       "    </tr>\n",
       "  </thead>\n",
       "  <tbody>\n",
       "    <tr>\n",
       "      <th>8</th>\n",
       "      <td>2024-08-26</td>\n",
       "      <td>141.56</td>\n",
       "      <td>7 days</td>\n",
       "      <td>-0.440000</td>\n",
       "    </tr>\n",
       "    <tr>\n",
       "      <th>7</th>\n",
       "      <td>2024-08-19</td>\n",
       "      <td>142.00</td>\n",
       "      <td>7 days</td>\n",
       "      <td>-0.650000</td>\n",
       "    </tr>\n",
       "    <tr>\n",
       "      <th>6</th>\n",
       "      <td>2024-08-12</td>\n",
       "      <td>142.65</td>\n",
       "      <td>7 days</td>\n",
       "      <td>0.750000</td>\n",
       "    </tr>\n",
       "    <tr>\n",
       "      <th>5</th>\n",
       "      <td>2024-08-05</td>\n",
       "      <td>141.90</td>\n",
       "      <td>7 days</td>\n",
       "      <td>0.200000</td>\n",
       "    </tr>\n",
       "    <tr>\n",
       "      <th>4</th>\n",
       "      <td>2024-07-29</td>\n",
       "      <td>141.70</td>\n",
       "      <td>7 days</td>\n",
       "      <td>-1.183333</td>\n",
       "    </tr>\n",
       "  </tbody>\n",
       "</table>\n",
       "</div>"
      ],
      "text/plain": [
       "        Date  Weight Timelapse  Difference\n",
       "8 2024-08-26  141.56    7 days   -0.440000\n",
       "7 2024-08-19  142.00    7 days   -0.650000\n",
       "6 2024-08-12  142.65    7 days    0.750000\n",
       "5 2024-08-05  141.90    7 days    0.200000\n",
       "4 2024-07-29  141.70    7 days   -1.183333"
      ]
     },
     "execution_count": 157,
     "metadata": {},
     "output_type": "execute_result"
    }
   ],
   "source": [
    "df_weight_diff.sort_values(by = 'Date', ascending = False).head()"
   ]
  }
 ],
 "metadata": {
  "kernelspec": {
   "display_name": "Python 3 (ipykernel)",
   "language": "python",
   "name": "python3"
  },
  "language_info": {
   "codemirror_mode": {
    "name": "ipython",
    "version": 3
   },
   "file_extension": ".py",
   "mimetype": "text/x-python",
   "name": "python",
   "nbconvert_exporter": "python",
   "pygments_lexer": "ipython3",
   "version": "3.12.5"
  }
 },
 "nbformat": 4,
 "nbformat_minor": 5
}
